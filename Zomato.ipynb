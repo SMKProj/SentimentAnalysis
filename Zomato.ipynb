{
 "cells": [
  {
   "cell_type": "code",
   "execution_count": 61,
   "metadata": {},
   "outputs": [],
   "source": [
    "import sqlite3\n",
    "import pandas as pd\n",
    "import numpy as np\n",
    "import nltk\n",
    "from nltk.corpus import RegexpTokenizer\n",
    "import matplotlib.pyplot as plt"
   ]
  },
  {
   "cell_type": "code",
   "execution_count": 2,
   "metadata": {},
   "outputs": [],
   "source": [
    "conn = sqlite3.connect(r'C:\\Users\\Sundas.Mohsin\\Desktop\\Portfolio Projects\\Resources\\zomato_rawdata.sqlite')"
   ]
  },
  {
   "cell_type": "code",
   "execution_count": 11,
   "metadata": {},
   "outputs": [
    {
     "data": {
      "text/plain": [
       "(51717, 18)"
      ]
     },
     "execution_count": 11,
     "metadata": {},
     "output_type": "execute_result"
    }
   ],
   "source": [
    "df = pd.read_sql_query('select * from users',conn)\n",
    "df.shape"
   ]
  },
  {
   "cell_type": "code",
   "execution_count": 4,
   "metadata": {},
   "outputs": [
    {
     "data": {
      "text/plain": [
       "Index(['index', 'url', 'address', 'name', 'online_order', 'book_table', 'rate',\n",
       "       'votes', 'phone', 'location', 'rest_type', 'dish_liked', 'cuisines',\n",
       "       'approx_cost(for two people)', 'reviews_list', 'menu_item',\n",
       "       'listed_in(type)', 'listed_in(city)'],\n",
       "      dtype='object')"
      ]
     },
     "execution_count": 4,
     "metadata": {},
     "output_type": "execute_result"
    }
   ],
   "source": [
    "df.columns"
   ]
  },
  {
   "cell_type": "code",
   "execution_count": 5,
   "metadata": {},
   "outputs": [
    {
     "data": {
      "text/plain": [
       "index                           int64\n",
       "url                            object\n",
       "address                        object\n",
       "name                           object\n",
       "online_order                   object\n",
       "book_table                     object\n",
       "rate                           object\n",
       "votes                           int64\n",
       "phone                          object\n",
       "location                       object\n",
       "rest_type                      object\n",
       "dish_liked                     object\n",
       "cuisines                       object\n",
       "approx_cost(for two people)    object\n",
       "reviews_list                   object\n",
       "menu_item                      object\n",
       "listed_in(type)                object\n",
       "listed_in(city)                object\n",
       "dtype: object"
      ]
     },
     "execution_count": 5,
     "metadata": {},
     "output_type": "execute_result"
    }
   ],
   "source": [
    "df.dtypes"
   ]
  },
  {
   "cell_type": "code",
   "execution_count": 7,
   "metadata": {},
   "outputs": [
    {
     "data": {
      "text/plain": [
       "index                           0.00\n",
       "url                             0.00\n",
       "address                         0.00\n",
       "name                            0.00\n",
       "online_order                    0.00\n",
       "book_table                      0.00\n",
       "rate                           15.03\n",
       "votes                           0.00\n",
       "phone                           2.34\n",
       "location                        0.04\n",
       "rest_type                       0.44\n",
       "dish_liked                     54.29\n",
       "cuisines                        0.09\n",
       "approx_cost(for two people)     0.67\n",
       "reviews_list                    0.00\n",
       "menu_item                       0.00\n",
       "listed_in(type)                 0.00\n",
       "listed_in(city)                 0.00\n",
       "dtype: float64"
      ]
     },
     "execution_count": 7,
     "metadata": {},
     "output_type": "execute_result"
    }
   ],
   "source": [
    "np.round(df.isnull().sum() / len(df) * 100,2)"
   ]
  },
  {
   "cell_type": "code",
   "execution_count": 12,
   "metadata": {},
   "outputs": [
    {
     "data": {
      "text/plain": [
       "array(['4.1/5', '3.8/5', '3.7/5', '3.6/5', '4.6/5', '4.0/5', '4.2/5',\n",
       "       '3.9/5', '3.1/5', '3.0/5', '3.2/5', '3.3/5', '2.8/5', '4.4/5',\n",
       "       '4.3/5', 'NEW', '2.9/5', '3.5/5', None, '2.6/5', '3.8 /5', '3.4/5',\n",
       "       '4.5/5', '2.5/5', '2.7/5', '4.7/5', '2.4/5', '2.2/5', '2.3/5',\n",
       "       '3.4 /5', '-', '3.6 /5', '4.8/5', '3.9 /5', '4.2 /5', '4.0 /5',\n",
       "       '4.1 /5', '3.7 /5', '3.1 /5', '2.9 /5', '3.3 /5', '2.8 /5',\n",
       "       '3.5 /5', '2.7 /5', '2.5 /5', '3.2 /5', '2.6 /5', '4.5 /5',\n",
       "       '4.3 /5', '4.4 /5', '4.9/5', '2.1/5', '2.0/5', '1.8/5', '4.6 /5',\n",
       "       '4.9 /5', '3.0 /5', '4.8 /5', '2.3 /5', '4.7 /5', '2.4 /5',\n",
       "       '2.1 /5', '2.2 /5', '2.0 /5', '1.8 /5'], dtype=object)"
      ]
     },
     "execution_count": 12,
     "metadata": {},
     "output_type": "execute_result"
    }
   ],
   "source": [
    "df['rate'].unique()"
   ]
  },
  {
   "cell_type": "code",
   "execution_count": 13,
   "metadata": {},
   "outputs": [],
   "source": [
    "df['rate'].replace(to_replace=['NEW', '-'], value=np.nan, inplace=True)"
   ]
  },
  {
   "cell_type": "code",
   "execution_count": 14,
   "metadata": {},
   "outputs": [
    {
     "data": {
      "text/plain": [
       "array(['4.1/5', '3.8/5', '3.7/5', '3.6/5', '4.6/5', '4.0/5', '4.2/5',\n",
       "       '3.9/5', '3.1/5', '3.0/5', '3.2/5', '3.3/5', '2.8/5', '4.4/5',\n",
       "       '4.3/5', nan, '2.9/5', '3.5/5', None, '2.6/5', '3.8 /5', '3.4/5',\n",
       "       '4.5/5', '2.5/5', '2.7/5', '4.7/5', '2.4/5', '2.2/5', '2.3/5',\n",
       "       '3.4 /5', '3.6 /5', '4.8/5', '3.9 /5', '4.2 /5', '4.0 /5',\n",
       "       '4.1 /5', '3.7 /5', '3.1 /5', '2.9 /5', '3.3 /5', '2.8 /5',\n",
       "       '3.5 /5', '2.7 /5', '2.5 /5', '3.2 /5', '2.6 /5', '4.5 /5',\n",
       "       '4.3 /5', '4.4 /5', '4.9/5', '2.1/5', '2.0/5', '1.8/5', '4.6 /5',\n",
       "       '4.9 /5', '3.0 /5', '4.8 /5', '2.3 /5', '4.7 /5', '2.4 /5',\n",
       "       '2.1 /5', '2.2 /5', '2.0 /5', '1.8 /5'], dtype=object)"
      ]
     },
     "execution_count": 14,
     "metadata": {},
     "output_type": "execute_result"
    }
   ],
   "source": [
    "df['rate'].unique()"
   ]
  },
  {
   "cell_type": "code",
   "execution_count": 15,
   "metadata": {},
   "outputs": [
    {
     "data": {
      "text/plain": [
       "array([4.1, 3.8, 3.7, 3.6, 4.6, 4. , 4.2, 3.9, 3.1, 3. , 3.2, 3.3, 2.8,\n",
       "       4.4, 4.3, nan, 2.9, 3.5, 2.6, 3.4, 4.5, 2.5, 2.7, 4.7, 2.4, 2.2,\n",
       "       2.3, 4.8, 4.9, 2.1, 2. , 1.8])"
      ]
     },
     "execution_count": 15,
     "metadata": {},
     "output_type": "execute_result"
    }
   ],
   "source": [
    "df['rate'] = df['rate'].apply(lambda x: float(x.split('/')[0]) if type(x) == str else x)\n",
    "df['rate'].unique()"
   ]
  },
  {
   "cell_type": "code",
   "execution_count": 16,
   "metadata": {},
   "outputs": [
    {
     "data": {
      "text/plain": [
       "10052"
      ]
     },
     "execution_count": 16,
     "metadata": {},
     "output_type": "execute_result"
    }
   ],
   "source": [
    "df['rate'].isnull().sum()"
   ]
  },
  {
   "cell_type": "code",
   "execution_count": 17,
   "metadata": {},
   "outputs": [],
   "source": [
    "newdf = df.dropna()"
   ]
  },
  {
   "cell_type": "code",
   "execution_count": 18,
   "metadata": {},
   "outputs": [
    {
     "data": {
      "text/html": [
       "<div>\n",
       "<style scoped>\n",
       "    .dataframe tbody tr th:only-of-type {\n",
       "        vertical-align: middle;\n",
       "    }\n",
       "\n",
       "    .dataframe tbody tr th {\n",
       "        vertical-align: top;\n",
       "    }\n",
       "\n",
       "    .dataframe thead th {\n",
       "        text-align: right;\n",
       "    }\n",
       "</style>\n",
       "<table border=\"1\" class=\"dataframe\">\n",
       "  <thead>\n",
       "    <tr style=\"text-align: right;\">\n",
       "      <th>online_order</th>\n",
       "      <th>No</th>\n",
       "      <th>Yes</th>\n",
       "    </tr>\n",
       "    <tr>\n",
       "      <th>rate</th>\n",
       "      <th></th>\n",
       "      <th></th>\n",
       "    </tr>\n",
       "  </thead>\n",
       "  <tbody>\n",
       "    <tr>\n",
       "      <th>1.8</th>\n",
       "      <td>5</td>\n",
       "      <td>0</td>\n",
       "    </tr>\n",
       "    <tr>\n",
       "      <th>2.0</th>\n",
       "      <td>11</td>\n",
       "      <td>0</td>\n",
       "    </tr>\n",
       "    <tr>\n",
       "      <th>2.1</th>\n",
       "      <td>9</td>\n",
       "      <td>15</td>\n",
       "    </tr>\n",
       "    <tr>\n",
       "      <th>2.2</th>\n",
       "      <td>10</td>\n",
       "      <td>16</td>\n",
       "    </tr>\n",
       "    <tr>\n",
       "      <th>2.3</th>\n",
       "      <td>27</td>\n",
       "      <td>18</td>\n",
       "    </tr>\n",
       "    <tr>\n",
       "      <th>2.4</th>\n",
       "      <td>20</td>\n",
       "      <td>34</td>\n",
       "    </tr>\n",
       "    <tr>\n",
       "      <th>2.5</th>\n",
       "      <td>33</td>\n",
       "      <td>24</td>\n",
       "    </tr>\n",
       "    <tr>\n",
       "      <th>2.6</th>\n",
       "      <td>56</td>\n",
       "      <td>82</td>\n",
       "    </tr>\n",
       "    <tr>\n",
       "      <th>2.7</th>\n",
       "      <td>91</td>\n",
       "      <td>99</td>\n",
       "    </tr>\n",
       "    <tr>\n",
       "      <th>2.8</th>\n",
       "      <td>107</td>\n",
       "      <td>208</td>\n",
       "    </tr>\n",
       "    <tr>\n",
       "      <th>2.9</th>\n",
       "      <td>96</td>\n",
       "      <td>213</td>\n",
       "    </tr>\n",
       "    <tr>\n",
       "      <th>3.0</th>\n",
       "      <td>85</td>\n",
       "      <td>206</td>\n",
       "    </tr>\n",
       "    <tr>\n",
       "      <th>3.1</th>\n",
       "      <td>67</td>\n",
       "      <td>240</td>\n",
       "    </tr>\n",
       "    <tr>\n",
       "      <th>3.2</th>\n",
       "      <td>33</td>\n",
       "      <td>216</td>\n",
       "    </tr>\n",
       "    <tr>\n",
       "      <th>3.3</th>\n",
       "      <td>26</td>\n",
       "      <td>192</td>\n",
       "    </tr>\n",
       "    <tr>\n",
       "      <th>3.4</th>\n",
       "      <td>96</td>\n",
       "      <td>255</td>\n",
       "    </tr>\n",
       "    <tr>\n",
       "      <th>3.5</th>\n",
       "      <td>118</td>\n",
       "      <td>364</td>\n",
       "    </tr>\n",
       "    <tr>\n",
       "      <th>3.6</th>\n",
       "      <td>229</td>\n",
       "      <td>646</td>\n",
       "    </tr>\n",
       "    <tr>\n",
       "      <th>3.7</th>\n",
       "      <td>449</td>\n",
       "      <td>1190</td>\n",
       "    </tr>\n",
       "    <tr>\n",
       "      <th>3.8</th>\n",
       "      <td>645</td>\n",
       "      <td>1828</td>\n",
       "    </tr>\n",
       "    <tr>\n",
       "      <th>3.9</th>\n",
       "      <td>780</td>\n",
       "      <td>2458</td>\n",
       "    </tr>\n",
       "    <tr>\n",
       "      <th>4.0</th>\n",
       "      <td>741</td>\n",
       "      <td>2119</td>\n",
       "    </tr>\n",
       "    <tr>\n",
       "      <th>4.1</th>\n",
       "      <td>778</td>\n",
       "      <td>2008</td>\n",
       "    </tr>\n",
       "    <tr>\n",
       "      <th>4.2</th>\n",
       "      <td>604</td>\n",
       "      <td>1493</td>\n",
       "    </tr>\n",
       "    <tr>\n",
       "      <th>4.3</th>\n",
       "      <td>674</td>\n",
       "      <td>997</td>\n",
       "    </tr>\n",
       "    <tr>\n",
       "      <th>4.4</th>\n",
       "      <td>368</td>\n",
       "      <td>755</td>\n",
       "    </tr>\n",
       "    <tr>\n",
       "      <th>4.5</th>\n",
       "      <td>292</td>\n",
       "      <td>338</td>\n",
       "    </tr>\n",
       "    <tr>\n",
       "      <th>4.6</th>\n",
       "      <td>140</td>\n",
       "      <td>154</td>\n",
       "    </tr>\n",
       "    <tr>\n",
       "      <th>4.7</th>\n",
       "      <td>113</td>\n",
       "      <td>54</td>\n",
       "    </tr>\n",
       "    <tr>\n",
       "      <th>4.8</th>\n",
       "      <td>34</td>\n",
       "      <td>32</td>\n",
       "    </tr>\n",
       "    <tr>\n",
       "      <th>4.9</th>\n",
       "      <td>12</td>\n",
       "      <td>43</td>\n",
       "    </tr>\n",
       "  </tbody>\n",
       "</table>\n",
       "</div>"
      ],
      "text/plain": [
       "online_order   No   Yes\n",
       "rate                   \n",
       "1.8             5     0\n",
       "2.0            11     0\n",
       "2.1             9    15\n",
       "2.2            10    16\n",
       "2.3            27    18\n",
       "2.4            20    34\n",
       "2.5            33    24\n",
       "2.6            56    82\n",
       "2.7            91    99\n",
       "2.8           107   208\n",
       "2.9            96   213\n",
       "3.0            85   206\n",
       "3.1            67   240\n",
       "3.2            33   216\n",
       "3.3            26   192\n",
       "3.4            96   255\n",
       "3.5           118   364\n",
       "3.6           229   646\n",
       "3.7           449  1190\n",
       "3.8           645  1828\n",
       "3.9           780  2458\n",
       "4.0           741  2119\n",
       "4.1           778  2008\n",
       "4.2           604  1493\n",
       "4.3           674   997\n",
       "4.4           368   755\n",
       "4.5           292   338\n",
       "4.6           140   154\n",
       "4.7           113    54\n",
       "4.8            34    32\n",
       "4.9            12    43"
      ]
     },
     "execution_count": 18,
     "metadata": {},
     "output_type": "execute_result"
    }
   ],
   "source": [
    "pT = pd.crosstab(newdf['rate'], newdf['online_order'])\n",
    "pT"
   ]
  },
  {
   "cell_type": "code",
   "execution_count": 19,
   "metadata": {},
   "outputs": [
    {
     "data": {
      "text/plain": [
       "<Axes: xlabel='rate'>"
      ]
     },
     "execution_count": 19,
     "metadata": {},
     "output_type": "execute_result"
    },
    {
     "data": {
      "image/png": "[encoded data removed]",
      "text/plain": [
       "<Figure size 640x480 with 1 Axes>"
      ]
     },
     "metadata": {},
     "output_type": "display_data"
    }
   ],
   "source": [
    "pT.plot(kind='bar', stacked=True)"
   ]
  },
  {
   "cell_type": "code",
   "execution_count": 20,
   "metadata": {},
   "outputs": [
    {
     "data": {
      "text/plain": [
       "rate\n",
       "1.8       5.0\n",
       "2.0      11.0\n",
       "2.1      24.0\n",
       "2.2      26.0\n",
       "2.3      45.0\n",
       "2.4      54.0\n",
       "2.5      57.0\n",
       "2.6     138.0\n",
       "2.7     190.0\n",
       "2.8     315.0\n",
       "2.9     309.0\n",
       "3.0     291.0\n",
       "3.1     307.0\n",
       "3.2     249.0\n",
       "3.3     218.0\n",
       "3.4     351.0\n",
       "3.5     482.0\n",
       "3.6     875.0\n",
       "3.7    1639.0\n",
       "3.8    2473.0\n",
       "3.9    3238.0\n",
       "4.0    2860.0\n",
       "4.1    2786.0\n",
       "4.2    2097.0\n",
       "4.3    1671.0\n",
       "4.4    1123.0\n",
       "4.5     630.0\n",
       "4.6     294.0\n",
       "4.7     167.0\n",
       "4.8      66.0\n",
       "4.9      55.0\n",
       "dtype: float64"
      ]
     },
     "execution_count": 20,
     "metadata": {},
     "output_type": "execute_result"
    }
   ],
   "source": [
    "pT.sum(axis=1).astype(float)"
   ]
  },
  {
   "cell_type": "code",
   "execution_count": 21,
   "metadata": {},
   "outputs": [],
   "source": [
    "normalized = pT.div(pT.sum(axis=1).astype(float), axis=0)"
   ]
  },
  {
   "cell_type": "code",
   "execution_count": 22,
   "metadata": {},
   "outputs": [],
   "source": [
    "normalized = normalized * 100"
   ]
  },
  {
   "cell_type": "code",
   "execution_count": 23,
   "metadata": {},
   "outputs": [
    {
     "data": {
      "text/plain": [
       "<Axes: xlabel='rate'>"
      ]
     },
     "execution_count": 23,
     "metadata": {},
     "output_type": "execute_result"
    },
    {
     "data": {
      "image/png": "[encoded data removed]",
      "text/plain": [
       "<Figure size 640x480 with 1 Axes>"
      ]
     },
     "metadata": {},
     "output_type": "display_data"
    }
   ],
   "source": [
    "normalized.plot(kind='bar', stacked=True)"
   ]
  },
  {
   "cell_type": "code",
   "execution_count": 43,
   "metadata": {},
   "outputs": [
    {
     "data": {
      "text/plain": [
       "array(['Casual Dining', 'Cafe, Casual Dining', 'Quick Bites',\n",
       "       'Casual Dining, Cafe', 'Cafe', 'Quick Bites, Cafe', 'Delivery',\n",
       "       'Dessert Parlor', 'Pub', 'Beverage Shop', 'Bar',\n",
       "       'Takeaway, Delivery', 'Food Truck', 'Quick Bites, Dessert Parlor',\n",
       "       'Pub, Casual Dining', 'Casual Dining, Bar', 'Bakery', 'Sweet Shop',\n",
       "       'Dessert Parlor, Beverage Shop', 'Beverage Shop, Quick Bites',\n",
       "       'Microbrewery, Casual Dining', 'Sweet Shop, Quick Bites', 'Lounge',\n",
       "       'Food Court', 'Cafe, Bakery', 'Microbrewery', 'Kiosk', 'Pub, Bar',\n",
       "       'Casual Dining, Pub', 'Cafe, Quick Bites', 'Lounge, Bar',\n",
       "       'Bakery, Quick Bites', 'Dessert Parlor, Quick Bites',\n",
       "       'Bar, Casual Dining', 'Beverage Shop, Dessert Parlor',\n",
       "       'Casual Dining, Microbrewery', 'Mess', 'Lounge, Casual Dining',\n",
       "       'Cafe, Dessert Parlor', 'Dessert Parlor, Cafe',\n",
       "       'Bakery, Dessert Parlor', 'Quick Bites, Sweet Shop', 'Takeaway',\n",
       "       'Microbrewery, Pub', 'Club', 'Fine Dining', 'Bakery, Cafe',\n",
       "       'Beverage Shop, Cafe', 'Pub, Cafe', 'Casual Dining, Irani Cafee',\n",
       "       'Food Court, Quick Bites', 'Quick Bites, Beverage Shop',\n",
       "       'Fine Dining, Lounge', 'Quick Bites, Bakery', 'Bar, Quick Bites',\n",
       "       'Pub, Microbrewery', 'Microbrewery, Lounge',\n",
       "       'Fine Dining, Microbrewery', 'Fine Dining, Bar',\n",
       "       'Dessert Parlor, Kiosk', 'Cafe, Bar', 'Quick Bites, Food Court',\n",
       "       'Casual Dining, Lounge', 'Microbrewery, Bar', 'Cafe, Lounge',\n",
       "       'Bar, Pub', 'Lounge, Cafe', 'Dessert Parlor, Bakery',\n",
       "       'Club, Casual Dining', 'Lounge, Microbrewery', 'Dhaba',\n",
       "       'Bar, Lounge', 'Food Court, Casual Dining'], dtype=object)"
      ]
     },
     "execution_count": 43,
     "metadata": {},
     "output_type": "execute_result"
    }
   ],
   "source": [
    "newdf['rest_type'].unique()"
   ]
  },
  {
   "cell_type": "code",
   "execution_count": 55,
   "metadata": {},
   "outputs": [
    {
     "name": "stdout",
     "output_type": "stream",
     "text": [
      "Dining:  10013\n",
      "Food:  276\n",
      "Bakery:  569\n"
     ]
    }
   ],
   "source": [
    "print('Dining: ', newdf['rest_type'].str.contains('Dining').sum())\n",
    "print('Food: ', newdf['rest_type'].str.contains('Food').sum())\n",
    "print('Bakery: ', newdf['rest_type'].str.contains('Bakery').sum())"
   ]
  },
  {
   "cell_type": "code",
   "execution_count": 53,
   "metadata": {},
   "outputs": [
    {
     "data": {
      "text/plain": [
       "rest_type\n",
       "Casual Dining                7298\n",
       "Quick Bites                  5224\n",
       "Cafe                         2321\n",
       "Dessert Parlor               1074\n",
       "Casual Dining, Bar            980\n",
       "                             ... \n",
       "Bar, Pub                        5\n",
       "Club, Casual Dining             4\n",
       "Dessert Parlor, Kiosk           2\n",
       "Dhaba                           1\n",
       "Food Court, Casual Dining       1\n",
       "Name: count, Length: 73, dtype: int64"
      ]
     },
     "execution_count": 53,
     "metadata": {},
     "output_type": "execute_result"
    }
   ],
   "source": [
    "newdf['rest_type'].value_counts()"
   ]
  },
  {
   "cell_type": "code",
   "execution_count": 62,
   "metadata": {},
   "outputs": [
    {
     "data": {
      "text/plain": [
       "<Axes: xlabel='rest_type'>"
      ]
     },
     "execution_count": 62,
     "metadata": {},
     "output_type": "execute_result"
    },
    {
     "data": {
      "image/png": "[encoded data removed]",
      "text/plain": [
       "<Figure size 2000x400 with 1 Axes>"
      ]
     },
     "metadata": {},
     "output_type": "display_data"
    }
   ],
   "source": [
    "plt.figure(figsize=(20,4))\n",
    "newdf['rest_type'].value_counts().plot(kind='bar',stacked=True)"
   ]
  },
  {
   "cell_type": "code",
   "execution_count": 64,
   "metadata": {},
   "outputs": [
    {
     "data": {
      "text/plain": [
       "9642"
      ]
     },
     "execution_count": 64,
     "metadata": {},
     "output_type": "execute_result"
    }
   ],
   "source": [
    "cd= newdf[newdf['rest_type'].str.contains('Casual Dining')]\n",
    "len(cd)"
   ]
  },
  {
   "cell_type": "code",
   "execution_count": 65,
   "metadata": {},
   "outputs": [
    {
     "data": {
      "text/plain": [
       "(9642, 18)"
      ]
     },
     "execution_count": 65,
     "metadata": {},
     "output_type": "execute_result"
    }
   ],
   "source": [
    "cd.shape"
   ]
  },
  {
   "cell_type": "code",
   "execution_count": 66,
   "metadata": {},
   "outputs": [
    {
     "data": {
      "text/plain": [
       "Index(['index', 'url', 'address', 'name', 'online_order', 'book_table', 'rate',\n",
       "       'votes', 'phone', 'location', 'rest_type', 'dish_liked', 'cuisines',\n",
       "       'approx_cost(for two people)', 'reviews_list', 'menu_item',\n",
       "       'listed_in(type)', 'listed_in(city)'],\n",
       "      dtype='object')"
      ]
     },
     "execution_count": 66,
     "metadata": {},
     "output_type": "execute_result"
    }
   ],
   "source": [
    "cd.columns"
   ]
  },
  {
   "cell_type": "code",
   "execution_count": 67,
   "metadata": {},
   "outputs": [
    {
     "data": {
      "text/plain": [
       "0        [('Rated 4.0', 'RATED\\n  A beautiful place to ...\n",
       "1        [('Rated 4.0', 'RATED\\n  Had been here for din...\n",
       "2        [('Rated 3.0', \"RATED\\n  Ambience is not that ...\n",
       "4        [('Rated 4.0', 'RATED\\n  Very good restaurant ...\n",
       "5        [('Rated 3.0', 'RATED\\n  Food 3/5\\nAmbience 3/...\n",
       "                               ...                        \n",
       "51703    [('Rated 4.0', \"RATED\\n  I had :-\\n\\n1. Italia...\n",
       "51704    [('Rated 3.0', 'RATED\\n  Like this place for z...\n",
       "51705    [('Rated 3.0', \"RATED\\n  Nice place to hangout...\n",
       "51708    [('Rated 3.0', 'RATED\\n  Place is good not tha...\n",
       "51711    [('Rated 4.0', 'RATED\\n  A fine place to chill...\n",
       "Name: reviews_list, Length: 9642, dtype: object"
      ]
     },
     "execution_count": 67,
     "metadata": {},
     "output_type": "execute_result"
    }
   ],
   "source": [
    "cd['reviews_list']"
   ]
  },
  {
   "cell_type": "code",
   "execution_count": 68,
   "metadata": {},
   "outputs": [
    {
     "name": "stderr",
     "output_type": "stream",
     "text": [
      "C:\\Users\\Sundas.Mohsin\\AppData\\Local\\Temp\\ipykernel_10936\\2128373326.py:1: SettingWithCopyWarning: \n",
      "A value is trying to be set on a copy of a slice from a DataFrame.\n",
      "Try using .loc[row_indexer,col_indexer] = value instead\n",
      "\n",
      "See the caveats in the documentation: https://pandas.pydata.org/pandas-docs/stable/user_guide/indexing.html#returning-a-view-versus-a-copy\n",
      "  cd['reviews_list'] = cd['reviews_list'].apply(lambda x: x.lower())\n"
     ]
    }
   ],
   "source": [
    "cd['reviews_list'] = cd['reviews_list'].apply(lambda x: x.lower())"
   ]
  },
  {
   "cell_type": "code",
   "execution_count": 69,
   "metadata": {},
   "outputs": [
    {
     "data": {
      "text/plain": [
       "0        [('rated 4.0', 'rated\\n  a beautiful place to ...\n",
       "1        [('rated 4.0', 'rated\\n  had been here for din...\n",
       "2        [('rated 3.0', \"rated\\n  ambience is not that ...\n",
       "4        [('rated 4.0', 'rated\\n  very good restaurant ...\n",
       "5        [('rated 3.0', 'rated\\n  food 3/5\\nambience 3/...\n",
       "                               ...                        \n",
       "51703    [('rated 4.0', \"rated\\n  i had :-\\n\\n1. italia...\n",
       "51704    [('rated 3.0', 'rated\\n  like this place for z...\n",
       "51705    [('rated 3.0', \"rated\\n  nice place to hangout...\n",
       "51708    [('rated 3.0', 'rated\\n  place is good not tha...\n",
       "51711    [('rated 4.0', 'rated\\n  a fine place to chill...\n",
       "Name: reviews_list, Length: 9642, dtype: object"
      ]
     },
     "execution_count": 69,
     "metadata": {},
     "output_type": "execute_result"
    }
   ],
   "source": [
    "cd['reviews_list']"
   ]
  },
  {
   "cell_type": "code",
   "execution_count": 70,
   "metadata": {},
   "outputs": [],
   "source": [
    "tokenizer = RegexpTokenizer(\"[a-zA-Z]+\")"
   ]
  },
  {
   "cell_type": "code",
   "execution_count": 73,
   "metadata": {},
   "outputs": [
    {
     "data": {
      "text/plain": [
       "0        [('rated 4.0', 'rated\\n  a beautiful place to ...\n",
       "1        [('rated 4.0', 'rated\\n  had been here for din...\n",
       "2        [('rated 3.0', \"rated\\n  ambience is not that ...\n",
       "4        [('rated 4.0', 'rated\\n  very good restaurant ...\n",
       "5        [('rated 3.0', 'rated\\n  food 3/5\\nambience 3/...\n",
       "                               ...                        \n",
       "51703    [('rated 4.0', \"rated\\n  i had :-\\n\\n1. italia...\n",
       "51704    [('rated 3.0', 'rated\\n  like this place for z...\n",
       "51705    [('rated 3.0', \"rated\\n  nice place to hangout...\n",
       "51708    [('rated 3.0', 'rated\\n  place is good not tha...\n",
       "51711    [('rated 4.0', 'rated\\n  a fine place to chill...\n",
       "Name: reviews_list, Length: 9642, dtype: object"
      ]
     },
     "execution_count": 73,
     "metadata": {},
     "output_type": "execute_result"
    }
   ],
   "source": [
    "cd['reviews_list']"
   ]
  },
  {
   "cell_type": "code",
   "execution_count": null,
   "metadata": {},
   "outputs": [],
   "source": [
    "tokenizer.tokenize(cd['reviews_list'][3])"
   ]
  },
  {
   "cell_type": "code",
   "execution_count": 74,
   "metadata": {},
   "outputs": [
    {
     "data": {
      "text/plain": [
       "0        [rated, rated, n, a, beautiful, place, to, din...\n",
       "1        [rated, rated, n, had, been, here, for, dinner...\n",
       "2        [rated, rated, n, ambience, is, not, that, goo...\n",
       "4        [rated, rated, n, very, good, restaurant, in, ...\n",
       "5        [rated, rated, n, food, nambience, nservice, n...\n",
       "                               ...                        \n",
       "51703    [rated, rated, n, i, had, n, n, italian, tiram...\n",
       "51704    [rated, rated, n, like, this, place, for, zoma...\n",
       "51705    [rated, rated, n, nice, place, to, hangout, wi...\n",
       "51708    [rated, rated, n, place, is, good, not, that, ...\n",
       "51711    [rated, rated, n, a, fine, place, to, chill, a...\n",
       "Name: reviews_list, Length: 9642, dtype: object"
      ]
     },
     "execution_count": 74,
     "metadata": {},
     "output_type": "execute_result"
    }
   ],
   "source": [
    "tokens = cd['reviews_list'].apply(tokenizer.tokenize)\n",
    "tokens"
   ]
  },
  {
   "cell_type": "code",
   "execution_count": 75,
   "metadata": {},
   "outputs": [
    {
     "name": "stderr",
     "output_type": "stream",
     "text": [
      "[nltk_data] Downloading package stopwords to\n",
      "[nltk_data]     C:\\Users\\Sundas.Mohsin\\AppData\\Roaming\\nltk_data...\n",
      "[nltk_data]   Package stopwords is already up-to-date!\n"
     ]
    },
    {
     "data": {
      "text/plain": [
       "True"
      ]
     },
     "execution_count": 75,
     "metadata": {},
     "output_type": "execute_result"
    }
   ],
   "source": [
    "nltk.download('stopwords')"
   ]
  },
  {
   "cell_type": "code",
   "execution_count": 76,
   "metadata": {},
   "outputs": [],
   "source": [
    "from nltk.corpus import stopwords"
   ]
  },
  {
   "cell_type": "code",
   "execution_count": 77,
   "metadata": {},
   "outputs": [],
   "source": [
    "stop = stopwords.words('english')"
   ]
  },
  {
   "cell_type": "code",
   "execution_count": 78,
   "metadata": {},
   "outputs": [],
   "source": [
    "stop.extend(['rated', 'n', 'nan', 'x', 'RATED', 'Rated'])"
   ]
  },
  {
   "cell_type": "code",
   "execution_count": 79,
   "metadata": {},
   "outputs": [],
   "source": [
    "clean_reviews = tokens.apply(lambda each_review: [t for t in each_review if t not in stop])\n"
   ]
  },
  {
   "cell_type": "code",
   "execution_count": 80,
   "metadata": {},
   "outputs": [
    {
     "data": {
      "text/plain": [
       "0        [beautiful, place, dine, interiors, take, back...\n",
       "1        [dinner, family, turned, good, choose, suitabl...\n",
       "2        [ambience, good, enough, pocket, friendly, caf...\n",
       "4        [good, restaurant, neighbourhood, buffet, syst...\n",
       "5        [food, nambience, nservice, nhad, family, lunc...\n",
       "                               ...                        \n",
       "51703    [italian, tiramisu, shake, grilled, one, burge...\n",
       "51704    [like, place, zomato, gold, drinks, whenever, ...\n",
       "51705    [nice, place, hangout, kids, one, part, iona, ...\n",
       "51708    [place, good, great, food, good, spicy, taste,...\n",
       "51711    [fine, place, chill, office, hours, reasonably...\n",
       "Name: reviews_list, Length: 9642, dtype: object"
      ]
     },
     "execution_count": 80,
     "metadata": {},
     "output_type": "execute_result"
    }
   ],
   "source": [
    "clean_reviews"
   ]
  },
  {
   "cell_type": "code",
   "execution_count": 81,
   "metadata": {},
   "outputs": [],
   "source": [
    "tot_reviews = list(clean_reviews)\n",
    "\n",
    "words = []\n",
    "for review in tot_reviews:\n",
    "    for word in review:\n",
    "        words.append(word)\n",
    "\n"
   ]
  },
  {
   "cell_type": "code",
   "execution_count": 82,
   "metadata": {},
   "outputs": [
    {
     "data": {
      "text/plain": [
       "['beautiful',\n",
       " 'place',\n",
       " 'dine',\n",
       " 'interiors',\n",
       " 'take',\n",
       " 'back',\n",
       " 'mughal',\n",
       " 'era',\n",
       " 'lightings',\n",
       " 'perfect',\n",
       " 'went',\n",
       " 'occasion',\n",
       " 'christmas',\n",
       " 'limited',\n",
       " 'items',\n",
       " 'available',\n",
       " 'taste',\n",
       " 'service',\n",
       " 'compromised',\n",
       " 'complaint',\n",
       " 'breads',\n",
       " 'could',\n",
       " 'better',\n",
       " 'would',\n",
       " 'surely',\n",
       " 'like',\n",
       " 'come',\n",
       " 'dinner',\n",
       " 'family',\n",
       " 'weekday',\n",
       " 'restaurant',\n",
       " 'completely',\n",
       " 'empty',\n",
       " 'ambience',\n",
       " 'good',\n",
       " 'good',\n",
       " 'old',\n",
       " 'hindi',\n",
       " 'music',\n",
       " 'seating',\n",
       " 'arrangement',\n",
       " 'good',\n",
       " 'ordered',\n",
       " 'masala',\n",
       " 'papad',\n",
       " 'panner',\n",
       " 'baby',\n",
       " 'corn',\n",
       " 'starters',\n",
       " 'lemon',\n",
       " 'corrionder',\n",
       " 'soup',\n",
       " 'butter',\n",
       " 'roti',\n",
       " 'olive',\n",
       " 'chilli',\n",
       " 'paratha',\n",
       " 'food',\n",
       " 'fresh',\n",
       " 'good',\n",
       " 'service',\n",
       " 'good',\n",
       " 'good',\n",
       " 'family',\n",
       " 'hangout',\n",
       " 'ncheers',\n",
       " 'restaurant',\n",
       " 'near',\n",
       " 'banashankari',\n",
       " 'bda',\n",
       " 'along',\n",
       " 'office',\n",
       " 'friends',\n",
       " 'visited',\n",
       " 'buffet',\n",
       " 'unfortunately',\n",
       " 'provide',\n",
       " 'veg',\n",
       " 'buffet',\n",
       " 'inquiring',\n",
       " 'said',\n",
       " 'place',\n",
       " 'mostly',\n",
       " 'visited',\n",
       " 'vegetarians',\n",
       " 'anyways',\n",
       " 'ordered',\n",
       " 'ala',\n",
       " 'carte',\n",
       " 'items',\n",
       " 'took',\n",
       " 'ages',\n",
       " 'come',\n",
       " 'food',\n",
       " 'ok',\n",
       " 'ok',\n",
       " 'definitely',\n",
       " 'visiting',\n",
       " 'anymore',\n",
       " 'went',\n",
       " 'weekend',\n",
       " 'one',\n",
       " 'us',\n",
       " 'buffet',\n",
       " 'two',\n",
       " 'us',\n",
       " 'took',\n",
       " 'ala',\n",
       " 'carte',\n",
       " 'firstly',\n",
       " 'ambience',\n",
       " 'service',\n",
       " 'place',\n",
       " 'great',\n",
       " 'buffet',\n",
       " 'lot',\n",
       " 'items',\n",
       " 'good',\n",
       " 'good',\n",
       " 'pumpkin',\n",
       " 'halwa',\n",
       " 'intm',\n",
       " 'dessert',\n",
       " 'amazing',\n",
       " 'must',\n",
       " 'try',\n",
       " 'kulchas',\n",
       " 'great',\n",
       " 'cheers',\n",
       " 'best',\n",
       " 'thing',\n",
       " 'place',\n",
       " 'ambiance',\n",
       " 'second',\n",
       " 'best',\n",
       " 'thing',\n",
       " 'yummy',\n",
       " 'food',\n",
       " 'try',\n",
       " 'buffet',\n",
       " 'buffet',\n",
       " 'food',\n",
       " 'disappointed',\n",
       " 'us',\n",
       " 'ntest',\n",
       " 'nquality',\n",
       " 'nservice',\n",
       " 'staff',\n",
       " 'professional',\n",
       " 'friendly',\n",
       " 'noverall',\n",
       " 'experience',\n",
       " 'excellent',\n",
       " 'nsubirmajumder',\n",
       " 'wixsite',\n",
       " 'com',\n",
       " 'great',\n",
       " 'food',\n",
       " 'pleasant',\n",
       " 'ambience',\n",
       " 'expensive',\n",
       " 'coll',\n",
       " 'place',\n",
       " 'chill',\n",
       " 'relax',\n",
       " 'nservice',\n",
       " 'really',\n",
       " 'good',\n",
       " 'friendly',\n",
       " 'staff',\n",
       " 'nfood',\n",
       " 'nservice',\n",
       " 'nambience',\n",
       " 'noverall',\n",
       " 'good',\n",
       " 'ambience',\n",
       " 'tasty',\n",
       " 'food',\n",
       " 'ncheese',\n",
       " 'chilli',\n",
       " 'paratha',\n",
       " 'bhutta',\n",
       " 'palak',\n",
       " 'methi',\n",
       " 'curry',\n",
       " 'good',\n",
       " 'combo',\n",
       " 'nlemon',\n",
       " 'chicken',\n",
       " 'starters',\n",
       " 'must',\n",
       " 'try',\n",
       " 'item',\n",
       " 'negg',\n",
       " 'fried',\n",
       " 'rice',\n",
       " 'also',\n",
       " 'quite',\n",
       " 'tasty',\n",
       " 'nin',\n",
       " 'mocktails',\n",
       " 'recommend',\n",
       " 'alice',\n",
       " 'junoon',\n",
       " 'miss',\n",
       " 'go',\n",
       " 'wrong',\n",
       " 'jalsa',\n",
       " 'never',\n",
       " 'fan',\n",
       " 'buffet',\n",
       " 'thus',\n",
       " 'always',\n",
       " 'order',\n",
       " 'alacarte',\n",
       " 'service',\n",
       " 'times',\n",
       " 'slower',\n",
       " 'side',\n",
       " 'food',\n",
       " 'worth',\n",
       " 'wait',\n",
       " 'overdelighted',\n",
       " 'service',\n",
       " 'food',\n",
       " 'provided',\n",
       " 'place',\n",
       " 'royal',\n",
       " 'ethnic',\n",
       " 'atmosphere',\n",
       " 'builds',\n",
       " 'strong',\n",
       " 'essence',\n",
       " 'india',\n",
       " 'also',\n",
       " 'quality',\n",
       " 'taste',\n",
       " 'food',\n",
       " 'truly',\n",
       " 'authentic',\n",
       " 'would',\n",
       " 'totally',\n",
       " 'recommend',\n",
       " 'visit',\n",
       " 'place',\n",
       " 'place',\n",
       " 'nice',\n",
       " 'comfortable',\n",
       " 'food',\n",
       " 'wise',\n",
       " 'jalea',\n",
       " 'outlets',\n",
       " 'maintain',\n",
       " 'good',\n",
       " 'standard',\n",
       " 'soya',\n",
       " 'chaap',\n",
       " 'standout',\n",
       " 'dish',\n",
       " 'clearly',\n",
       " 'one',\n",
       " 'trademark',\n",
       " 'dish',\n",
       " 'per',\n",
       " 'must',\n",
       " 'try',\n",
       " 'nthe',\n",
       " 'concern',\n",
       " 'parking',\n",
       " 'congested',\n",
       " 'limited',\n",
       " 'cars',\n",
       " 'basement',\n",
       " 'parking',\n",
       " 'steep',\n",
       " 'makes',\n",
       " 'cumbersome',\n",
       " 'place',\n",
       " 'nice',\n",
       " 'comfortable',\n",
       " 'food',\n",
       " 'wise',\n",
       " 'jalea',\n",
       " 'outlets',\n",
       " 'maintain',\n",
       " 'good',\n",
       " 'standard',\n",
       " 'soya',\n",
       " 'chaap',\n",
       " 'standout',\n",
       " 'dish',\n",
       " 'clearly',\n",
       " 'one',\n",
       " 'trademark',\n",
       " 'dish',\n",
       " 'per',\n",
       " 'must',\n",
       " 'try',\n",
       " 'nthe',\n",
       " 'concern',\n",
       " 'parking',\n",
       " 'congested',\n",
       " 'limited',\n",
       " 'cars',\n",
       " 'basement',\n",
       " 'parking',\n",
       " 'steep',\n",
       " 'makes',\n",
       " 'cumbersome',\n",
       " 'place',\n",
       " 'nice',\n",
       " 'comfortable',\n",
       " 'food',\n",
       " 'wise',\n",
       " 'jalea',\n",
       " 'outlets',\n",
       " 'maintain',\n",
       " 'good',\n",
       " 'standard',\n",
       " 'soya',\n",
       " 'chaap',\n",
       " 'standout',\n",
       " 'dish',\n",
       " 'clearly',\n",
       " 'one',\n",
       " 'trademark',\n",
       " 'dish',\n",
       " 'per',\n",
       " 'must',\n",
       " 'try',\n",
       " 'nthe',\n",
       " 'concern',\n",
       " 'parking',\n",
       " 'congested',\n",
       " 'limited',\n",
       " 'cars',\n",
       " 'basement',\n",
       " 'parking',\n",
       " 'steep',\n",
       " 'makes',\n",
       " 'cumbersome',\n",
       " 'dinner',\n",
       " 'family',\n",
       " 'turned',\n",
       " 'good',\n",
       " 'choose',\n",
       " 'suitable',\n",
       " 'ages',\n",
       " 'people',\n",
       " 'try',\n",
       " 'place',\n",
       " 'liked',\n",
       " 'starters',\n",
       " 'service',\n",
       " 'good',\n",
       " 'prices',\n",
       " 'affordable',\n",
       " 'recommend',\n",
       " 'restaurant',\n",
       " 'early',\n",
       " 'dinner',\n",
       " 'place',\n",
       " 'little',\n",
       " 'noisy',\n",
       " 'ambience',\n",
       " 'really',\n",
       " 'nice',\n",
       " 'staff',\n",
       " 'courteous',\n",
       " 'price',\n",
       " 'pretty',\n",
       " 'high',\n",
       " 'quantity',\n",
       " 'overall',\n",
       " 'experience',\n",
       " 'fine',\n",
       " 'quality',\n",
       " 'food',\n",
       " 'nice',\n",
       " 'nothing',\n",
       " 'extraordinary',\n",
       " 'also',\n",
       " 'buffet',\n",
       " 'veg',\n",
       " 'felt',\n",
       " 'good',\n",
       " 'little',\n",
       " 'expensive',\n",
       " 'quantity',\n",
       " 'serve',\n",
       " 'terms',\n",
       " 'taste',\n",
       " 'decent',\n",
       " 'nothing',\n",
       " 'much',\n",
       " 'talk',\n",
       " 'ambience',\n",
       " 'regular',\n",
       " 'casual',\n",
       " 'dining',\n",
       " 'restaurant',\n",
       " 'take',\n",
       " 'family',\n",
       " 'dinner',\n",
       " 'lunch',\n",
       " 'improve',\n",
       " 'quantity',\n",
       " 'may',\n",
       " 'reduce',\n",
       " 'price',\n",
       " 'bit',\n",
       " 'may',\n",
       " 'improve',\n",
       " 'presentation',\n",
       " 'food',\n",
       " 'might',\n",
       " 'manage',\n",
       " 'get',\n",
       " 'repeat',\n",
       " 'customers',\n",
       " 'looking',\n",
       " 'quite',\n",
       " 'place',\n",
       " 'spend',\n",
       " 'time',\n",
       " 'family',\n",
       " 'well',\n",
       " 'wanted',\n",
       " 'try',\n",
       " 'new',\n",
       " 'place',\n",
       " 'since',\n",
       " 'banashankari',\n",
       " 'thought',\n",
       " 'trying',\n",
       " 'place',\n",
       " 'place',\n",
       " 'good',\n",
       " 'rating',\n",
       " 'part',\n",
       " 'zomato',\n",
       " 'gold',\n",
       " 'decided',\n",
       " 'try',\n",
       " 'place',\n",
       " 'delite',\n",
       " 'see',\n",
       " 'friendly',\n",
       " 'staff',\n",
       " 'food',\n",
       " 'ordered',\n",
       " 'tasty',\n",
       " 'well',\n",
       " 'nfood',\n",
       " 'nambience',\n",
       " 'nfriendly',\n",
       " 'staff',\n",
       " 'npocket',\n",
       " 'friendly',\n",
       " 'nwill',\n",
       " 'definitely',\n",
       " 'visit',\n",
       " 'nice',\n",
       " 'place',\n",
       " 'dine',\n",
       " 'good',\n",
       " 'ambiance',\n",
       " 'food',\n",
       " 'good',\n",
       " 'serving',\n",
       " 'time',\n",
       " 'also',\n",
       " 'good',\n",
       " 'neat',\n",
       " 'restrooms',\n",
       " 'arranged',\n",
       " 'tables',\n",
       " 'thing',\n",
       " 'went',\n",
       " 'lunch',\n",
       " 'noticed',\n",
       " 'kept',\n",
       " 'playing',\n",
       " 'one',\n",
       " 'music',\n",
       " 'back',\n",
       " 'back',\n",
       " 'little',\n",
       " 'annoying',\n",
       " 'chicken',\n",
       " 'biriyani',\n",
       " 'good',\n",
       " 'chicken',\n",
       " 'fresh',\n",
       " 'tender',\n",
       " 'rice',\n",
       " 'well',\n",
       " 'cooked',\n",
       " 'overall',\n",
       " 'great',\n",
       " 'mutton',\n",
       " 'biriyani',\n",
       " 'good',\n",
       " 'tasty',\n",
       " 'plenty',\n",
       " 'mutton',\n",
       " 'pieces',\n",
       " 'place',\n",
       " 'cool',\n",
       " 'good',\n",
       " 'ambience',\n",
       " 'slow',\n",
       " 'music',\n",
       " 'delicious',\n",
       " 'food',\n",
       " 'find',\n",
       " 'peace',\n",
       " 'staff',\n",
       " 'friendly',\n",
       " 'maintained',\n",
       " 'place',\n",
       " 'clean',\n",
       " 'price',\n",
       " 'average',\n",
       " 'quantity',\n",
       " 'food',\n",
       " 'serve',\n",
       " 'nthom',\n",
       " 'yum',\n",
       " 'thai',\n",
       " 'soup',\n",
       " 'best',\n",
       " 'treat',\n",
       " 'mouth',\n",
       " 'roti',\n",
       " 'soft',\n",
       " 'vilaythi',\n",
       " 'paneer',\n",
       " 'perfect',\n",
       " 'veggie',\n",
       " 'foodies',\n",
       " 'rice',\n",
       " 'tried',\n",
       " 'burnt',\n",
       " 'garlic',\n",
       " 'fried',\n",
       " 'rice',\n",
       " 'vegetables',\n",
       " 'perfect',\n",
       " 'thing',\n",
       " 'end',\n",
       " 'quiet',\n",
       " 'good',\n",
       " 'family',\n",
       " 'type',\n",
       " 'place',\n",
       " 'calm',\n",
       " 'usually',\n",
       " 'find',\n",
       " 'crowd',\n",
       " 'panner',\n",
       " 'curry',\n",
       " 'deserts',\n",
       " 'tasted',\n",
       " 'wer',\n",
       " 'really',\n",
       " 'good',\n",
       " 'found',\n",
       " 'little',\n",
       " 'expensive',\n",
       " 'bad',\n",
       " 'experience',\n",
       " 'ni',\n",
       " 'know',\n",
       " 'la',\n",
       " 'carte',\n",
       " 'buffet',\n",
       " 'worst',\n",
       " 'gave',\n",
       " 'us',\n",
       " 'complementary',\n",
       " 'drink',\n",
       " 'momos',\n",
       " 'buffet',\n",
       " 'momos',\n",
       " 'really',\n",
       " 'good',\n",
       " 'nthe',\n",
       " 'number',\n",
       " 'varieties',\n",
       " 'first',\n",
       " 'disappointing',\n",
       " 'service',\n",
       " 'slow',\n",
       " 'refilled',\n",
       " 'food',\n",
       " 'slowly',\n",
       " 'starters',\n",
       " 'okay',\n",
       " 'main',\n",
       " 'course',\n",
       " 'also',\n",
       " 'two',\n",
       " 'gravies',\n",
       " 'roti',\n",
       " 'rice',\n",
       " 'raitha',\n",
       " 'chats',\n",
       " 'sev',\n",
       " 'puri',\n",
       " 'pan',\n",
       " 'puri',\n",
       " 'average',\n",
       " 'desert',\n",
       " 'disappointing',\n",
       " 'gulab',\n",
       " 'jamun',\n",
       " 'chocolate',\n",
       " 'cake',\n",
       " 'jamun',\n",
       " 'cooked',\n",
       " 'inside',\n",
       " 'cold',\n",
       " 'blob',\n",
       " 'raw',\n",
       " 'dough',\n",
       " 'inside',\n",
       " 'chocolate',\n",
       " 'cake',\n",
       " 'also',\n",
       " 'really',\n",
       " 'hard',\n",
       " 'good',\n",
       " 'noverall',\n",
       " 'buffet',\n",
       " 'bad',\n",
       " 'experience',\n",
       " 'food',\n",
       " 'nambience',\n",
       " 'nstaff',\n",
       " 'none',\n",
       " 'good',\n",
       " 'places',\n",
       " 'try',\n",
       " 'north',\n",
       " 'indian',\n",
       " 'food',\n",
       " 'depends',\n",
       " 'ur',\n",
       " 'taste',\n",
       " 'buds',\n",
       " 'everyone',\n",
       " 'like',\n",
       " 'items',\n",
       " 'specially',\n",
       " 'u',\n",
       " 'r',\n",
       " 'particular',\n",
       " 'abt',\n",
       " 'sweet',\n",
       " 'spicy',\n",
       " 'food',\n",
       " 'nthere',\n",
       " 'buffet',\n",
       " 'available',\n",
       " 'nwe',\n",
       " 'ordered',\n",
       " 'paneer',\n",
       " 'uttar',\n",
       " 'dakshin',\n",
       " 'paneer',\n",
       " 'kurchan',\n",
       " 'amazing',\n",
       " 'gobi',\n",
       " 'hara',\n",
       " 'pyaz',\n",
       " 'mix',\n",
       " 'veg',\n",
       " 'average',\n",
       " 'decent',\n",
       " 'place',\n",
       " 'family',\n",
       " 'lunch',\n",
       " 'dinner',\n",
       " 'well',\n",
       " 'arranged',\n",
       " 'simple',\n",
       " 'manner',\n",
       " 'food',\n",
       " 'tasty',\n",
       " 'crew',\n",
       " 'helpful',\n",
       " 'understanding',\n",
       " 'great',\n",
       " 'place',\n",
       " 'heavy',\n",
       " 'lunch',\n",
       " 'good',\n",
       " 'service',\n",
       " 'nthe',\n",
       " 'chicken',\n",
       " 'biryani',\n",
       " 'undoubtedly',\n",
       " 'one',\n",
       " 'best',\n",
       " 'biriyani',\n",
       " 'lassi',\n",
       " 'would',\n",
       " 'suggested',\n",
       " 'combo',\n",
       " 'buffet',\n",
       " 'talk',\n",
       " 'place',\n",
       " 'try',\n",
       " 'according',\n",
       " 'appetite',\n",
       " 'nice',\n",
       " 'place',\n",
       " 'one',\n",
       " 'restaurant',\n",
       " 'near',\n",
       " 'katriguppe',\n",
       " 'found',\n",
       " 'really',\n",
       " 'good',\n",
       " 'good',\n",
       " 'variety',\n",
       " 'chinese',\n",
       " 'thai',\n",
       " 'dishes',\n",
       " 'service',\n",
       " 'good',\n",
       " 'good',\n",
       " 'place',\n",
       " 'hangout',\n",
       " 'family',\n",
       " 'peaceful',\n",
       " 'place',\n",
       " 'noise',\n",
       " 'really',\n",
       " 'less',\n",
       " 'good',\n",
       " 'view',\n",
       " 'spice',\n",
       " 'elephant',\n",
       " 'soup',\n",
       " 'spl',\n",
       " 'almost',\n",
       " 'manchow',\n",
       " 'flavour',\n",
       " 'soup',\n",
       " 'medium',\n",
       " 'spicy',\n",
       " 'nlasooni',\n",
       " 'fish',\n",
       " 'tikka',\n",
       " 'awesome',\n",
       " 'ni',\n",
       " 'remember',\n",
       " 'dessert',\n",
       " 'name',\n",
       " 'attached',\n",
       " 'photo',\n",
       " 'vanilla',\n",
       " 'ice',\n",
       " 'inside',\n",
       " 'wafers',\n",
       " 'wafer',\n",
       " 'hell',\n",
       " 'hard',\n",
       " 'egg',\n",
       " 'smell',\n",
       " 'chewy',\n",
       " 'nightmare',\n",
       " 'dessert',\n",
       " 'ntable',\n",
       " 'leg',\n",
       " 'space',\n",
       " 'bad',\n",
       " 'uncomfortable',\n",
       " 'whole',\n",
       " 'time',\n",
       " 'kept',\n",
       " 'adjusting',\n",
       " 'legs',\n",
       " 'nno',\n",
       " 'parking',\n",
       " 'nfor',\n",
       " 'taste',\n",
       " 'felt',\n",
       " 'costly',\n",
       " 'zomato',\n",
       " 'gold',\n",
       " 'partner',\n",
       " 'price',\n",
       " 'insane',\n",
       " 'really',\n",
       " 'nice',\n",
       " 'food',\n",
       " 'small',\n",
       " 'place',\n",
       " 'courteous',\n",
       " 'staff',\n",
       " 'cheap',\n",
       " 'food',\n",
       " 'ambience',\n",
       " 'cost',\n",
       " 'soups',\n",
       " 'starters',\n",
       " 'main',\n",
       " 'course',\n",
       " 'cost',\n",
       " 'two',\n",
       " 'us',\n",
       " 'ambience',\n",
       " 'good',\n",
       " 'enough',\n",
       " 'pocket',\n",
       " 'friendly',\n",
       " 'cafe',\n",
       " 'quantity',\n",
       " 'good',\n",
       " 'desserts',\n",
       " 'good',\n",
       " 'enough',\n",
       " 'nwent',\n",
       " 'quick',\n",
       " 'bite',\n",
       " 'friends',\n",
       " 'nthe',\n",
       " 'ambience',\n",
       " 'corporate',\n",
       " 'feel',\n",
       " 'would',\n",
       " 'say',\n",
       " 'unique',\n",
       " 'ntried',\n",
       " 'nachos',\n",
       " 'pasta',\n",
       " 'churros',\n",
       " 'lasagne',\n",
       " 'nnachos',\n",
       " 'pathetic',\n",
       " 'seriously',\n",
       " 'order',\n",
       " 'npasta',\n",
       " 'okayish',\n",
       " 'nlasagne',\n",
       " 'good',\n",
       " 'nnutella',\n",
       " 'churros',\n",
       " 'best',\n",
       " 'noverall',\n",
       " 'okayish',\n",
       " 'experience',\n",
       " 'npeace',\n",
       " 'first',\n",
       " 'big',\n",
       " 'thanks',\n",
       " 'staff',\n",
       " 'cafe',\n",
       " 'polite',\n",
       " 'courteous',\n",
       " 'ni',\n",
       " 'mins',\n",
       " 'closing',\n",
       " 'time',\n",
       " 'without',\n",
       " 'discomfort',\n",
       " 'hesitation',\n",
       " 'staff',\n",
       " 'welcomed',\n",
       " 'warm',\n",
       " 'smile',\n",
       " 'said',\n",
       " 'still',\n",
       " 'open',\n",
       " 'though',\n",
       " 'preparing',\n",
       " 'close',\n",
       " 'cafe',\n",
       " 'day',\n",
       " 'nquickly',\n",
       " 'ordered',\n",
       " 'thai',\n",
       " 'green',\n",
       " 'curry',\n",
       " 'served',\n",
       " 'rice',\n",
       " 'got',\n",
       " 'within',\n",
       " 'mins',\n",
       " 'hot',\n",
       " 'freshly',\n",
       " 'made',\n",
       " 'nit',\n",
       " 'tasty',\n",
       " 'taste',\n",
       " 'coconut',\n",
       " 'milk',\n",
       " 'spicy',\n",
       " 'mild',\n",
       " 'spicy',\n",
       " 'ni',\n",
       " 'saw',\n",
       " 'yummy',\n",
       " 'looking',\n",
       " 'dessert',\n",
       " 'menu',\n",
       " 'go',\n",
       " 'try',\n",
       " 'na',\n",
       " 'good',\n",
       " 'spacious',\n",
       " 'place',\n",
       " 'hang',\n",
       " 'coffee',\n",
       " 'pastas',\n",
       " 'pizza',\n",
       " 'thai',\n",
       " 'food',\n",
       " 'place',\n",
       " 'people',\n",
       " 'love',\n",
       " 'churos',\n",
       " 'otherwise',\n",
       " 'normal',\n",
       " 'simple',\n",
       " 'cafe',\n",
       " 'like',\n",
       " 'town',\n",
       " 'go',\n",
       " 'spend',\n",
       " 'evening',\n",
       " 'positive',\n",
       " 'one',\n",
       " 'better',\n",
       " 'cafes',\n",
       " 'around',\n",
       " 'banashankari',\n",
       " 'also',\n",
       " 'place',\n",
       " 'crowded',\n",
       " 'visiting',\n",
       " 'place',\n",
       " 'since',\n",
       " 'years',\n",
       " 'quality',\n",
       " 'gone',\n",
       " 'drastically',\n",
       " 'food',\n",
       " 'quality',\n",
       " 'become',\n",
       " 'average',\n",
       " 'good',\n",
       " 'service',\n",
       " 'also',\n",
       " 'bad',\n",
       " 'late',\n",
       " 'really',\n",
       " 'disappointed',\n",
       " 'place',\n",
       " 'nseems',\n",
       " 'like',\n",
       " 'old',\n",
       " 'dusty',\n",
       " 'store',\n",
       " 'room',\n",
       " 'stacked',\n",
       " 'old',\n",
       " 'sofas',\n",
       " 'chairs',\n",
       " 'decor',\n",
       " 'soo',\n",
       " 'disappointing',\n",
       " 'cannot',\n",
       " 'put',\n",
       " 'words',\n",
       " 'nlastly',\n",
       " 'food',\n",
       " 'cherry',\n",
       " 'cake',\n",
       " 'make',\n",
       " 'complete',\n",
       " 'worse',\n",
       " 'meal',\n",
       " 'nthis',\n",
       " 'place',\n",
       " 'last',\n",
       " 'option',\n",
       " 'ever',\n",
       " 'consider',\n",
       " 'congested',\n",
       " 'atmosphere',\n",
       " 'due',\n",
       " 'smoke',\n",
       " 'kitchen',\n",
       " 'nambience',\n",
       " 'k',\n",
       " 'nservice',\n",
       " ...]"
      ]
     },
     "execution_count": 82,
     "metadata": {},
     "output_type": "execute_result"
    }
   ],
   "source": [
    "words"
   ]
  },
  {
   "cell_type": "code",
   "execution_count": 83,
   "metadata": {},
   "outputs": [],
   "source": [
    "from nltk import FreqDist\n",
    "\n",
    "fd = FreqDist()\n",
    "\n",
    "for word in words:\n",
    "    fd[word] = fd[word] + 1"
   ]
  },
  {
   "cell_type": "code",
   "execution_count": 84,
   "metadata": {},
   "outputs": [
    {
     "data": {
      "text/plain": [
       "[('place', 439949),\n",
       " ('good', 430406),\n",
       " ('food', 427592),\n",
       " ('chicken', 194871),\n",
       " ('service', 167406),\n",
       " ('ambience', 142346),\n",
       " ('great', 131409),\n",
       " ('ordered', 124752),\n",
       " ('one', 115908),\n",
       " ('really', 115275),\n",
       " ('taste', 100540),\n",
       " ('also', 99631),\n",
       " ('try', 99193),\n",
       " ('nice', 97666),\n",
       " ('time', 93236),\n",
       " ('visit', 92620),\n",
       " ('nthe', 88712),\n",
       " ('restaurant', 86361),\n",
       " ('staff', 86276),\n",
       " ('like', 84671)]"
      ]
     },
     "execution_count": 84,
     "metadata": {},
     "output_type": "execute_result"
    }
   ],
   "source": [
    "fd.most_common(20)"
   ]
  },
  {
   "cell_type": "code",
   "execution_count": 85,
   "metadata": {},
   "outputs": [
    {
     "data": {
      "image/png": "[encoded data removed]",
      "text/plain": [
       "<Figure size 640x480 with 1 Axes>"
      ]
     },
     "metadata": {},
     "output_type": "display_data"
    },
    {
     "data": {
      "text/plain": [
       "<Axes: xlabel='Samples', ylabel='Counts'>"
      ]
     },
     "execution_count": 85,
     "metadata": {},
     "output_type": "execute_result"
    }
   ],
   "source": [
    "fd.plot(20)"
   ]
  },
  {
   "cell_type": "markdown",
   "metadata": {},
   "source": [
    "Performing Bigram and Trigram "
   ]
  },
  {
   "cell_type": "code",
   "execution_count": 89,
   "metadata": {},
   "outputs": [
    {
     "data": {
      "text/plain": [
       "<generator object bigrams at 0x00000170E4B23760>"
      ]
     },
     "execution_count": 89,
     "metadata": {},
     "output_type": "execute_result"
    }
   ],
   "source": [
    "from nltk import FreqDist, bigrams, trigrams\n",
    "\n",
    "biGrams = bigrams(words)\n",
    "biGrams"
   ]
  },
  {
   "cell_type": "code",
   "execution_count": 91,
   "metadata": {},
   "outputs": [
    {
     "data": {
      "text/plain": [
       "[(('really', 'good'), 31900),\n",
       " (('main', 'course'), 28574),\n",
       " (('must', 'try'), 28373),\n",
       " (('good', 'food'), 27807),\n",
       " (('food', 'good'), 27434),\n",
       " (('good', 'place'), 23605),\n",
       " (('visit', 'place'), 22245),\n",
       " (('non', 'veg'), 21594),\n",
       " (('one', 'best'), 18000),\n",
       " (('f', 'f'), 17623)]"
      ]
     },
     "execution_count": 91,
     "metadata": {},
     "output_type": "execute_result"
    }
   ],
   "source": [
    "fd_biGrams = FreqDist()\n",
    "\n",
    "for b in biGrams:\n",
    "    fd_biGrams[b] = fd_biGrams[b] + 1\n",
    "\n",
    "fd_biGrams.most_common(10)"
   ]
  },
  {
   "cell_type": "code",
   "execution_count": 92,
   "metadata": {},
   "outputs": [
    {
     "data": {
      "image/png": "[encoded data removed]",
      "text/plain": [
       "<Figure size 640x480 with 1 Axes>"
      ]
     },
     "metadata": {},
     "output_type": "display_data"
    },
    {
     "data": {
      "text/plain": [
       "<Axes: xlabel='Samples', ylabel='Counts'>"
      ]
     },
     "execution_count": 92,
     "metadata": {},
     "output_type": "execute_result"
    }
   ],
   "source": [
    "fd_biGrams.plot(10)"
   ]
  },
  {
   "cell_type": "code",
   "execution_count": 93,
   "metadata": {},
   "outputs": [],
   "source": [
    "tiGrams = trigrams(words)"
   ]
  },
  {
   "cell_type": "code",
   "execution_count": 94,
   "metadata": {},
   "outputs": [],
   "source": [
    "fd_tiGrams = FreqDist()\n",
    "\n",
    "for b in tiGrams:\n",
    "    fd_tiGrams[b] = fd_tiGrams[b] + 1"
   ]
  },
  {
   "cell_type": "code",
   "execution_count": 95,
   "metadata": {},
   "outputs": [
    {
     "data": {
      "text/plain": [
       "[(('f', 'f', 'f'), 9372),\n",
       " (('veg', 'non', 'veg'), 6522),\n",
       " (('must', 'visit', 'place'), 5916),\n",
       " (('north', 'indian', 'food'), 5377),\n",
       " (('food', 'really', 'good'), 3938),\n",
       " (('starters', 'main', 'course'), 3211),\n",
       " (('nfood', 'nambience', 'nservice'), 3200),\n",
       " (('place', 'hangout', 'friends'), 3034),\n",
       " (('overall', 'good', 'experience'), 3014),\n",
       " (('peri', 'peri', 'chicken'), 2860)]"
      ]
     },
     "execution_count": 95,
     "metadata": {},
     "output_type": "execute_result"
    }
   ],
   "source": [
    "fd_tiGrams.most_common(10)"
   ]
  },
  {
   "cell_type": "code",
   "execution_count": 96,
   "metadata": {},
   "outputs": [
    {
     "data": {
      "image/png": "[encoded data removed]",
      "text/plain": [
       "<Figure size 640x480 with 1 Axes>"
      ]
     },
     "metadata": {},
     "output_type": "display_data"
    },
    {
     "data": {
      "text/plain": [
       "<Axes: xlabel='Samples', ylabel='Counts'>"
      ]
     },
     "execution_count": 96,
     "metadata": {},
     "output_type": "execute_result"
    }
   ],
   "source": [
    "fd_tiGrams.plot(10)"
   ]
  },
  {
   "cell_type": "markdown",
   "metadata": {},
   "source": [
    "Extracting Geographical Coordinates"
   ]
  },
  {
   "cell_type": "code",
   "execution_count": 97,
   "metadata": {},
   "outputs": [
    {
     "name": "stdout",
     "output_type": "stream",
     "text": [
      "Requirement already satisfied: geocoder in c:\\users\\sundas.mohsin\\appdata\\local\\programs\\python\\python311\\lib\\site-packages (1.38.1)\n",
      "Requirement already satisfied: click in c:\\users\\sundas.mohsin\\appdata\\local\\programs\\python\\python311\\lib\\site-packages (from geocoder) (8.1.6)\n",
      "Requirement already satisfied: future in c:\\users\\sundas.mohsin\\appdata\\local\\programs\\python\\python311\\lib\\site-packages (from geocoder) (0.18.3)\n",
      "Requirement already satisfied: ratelim in c:\\users\\sundas.mohsin\\appdata\\local\\programs\\python\\python311\\lib\\site-packages (from geocoder) (0.1.6)\n",
      "Requirement already satisfied: requests in c:\\users\\sundas.mohsin\\appdata\\local\\programs\\python\\python311\\lib\\site-packages (from geocoder) (2.31.0)\n",
      "Requirement already satisfied: six in c:\\users\\sundas.mohsin\\appdata\\local\\programs\\python\\python311\\lib\\site-packages (from geocoder) (1.16.0)\n",
      "Requirement already satisfied: colorama in c:\\users\\sundas.mohsin\\appdata\\roaming\\python\\python311\\site-packages (from click->geocoder) (0.4.6)\n",
      "Requirement already satisfied: decorator in c:\\users\\sundas.mohsin\\appdata\\roaming\\python\\python311\\site-packages (from ratelim->geocoder) (5.1.1)\n",
      "Requirement already satisfied: charset-normalizer<4,>=2 in c:\\users\\sundas.mohsin\\appdata\\local\\programs\\python\\python311\\lib\\site-packages (from requests->geocoder) (3.2.0)\n",
      "Requirement already satisfied: idna<4,>=2.5 in c:\\users\\sundas.mohsin\\appdata\\local\\programs\\python\\python311\\lib\\site-packages (from requests->geocoder) (3.4)\n",
      "Requirement already satisfied: urllib3<3,>=1.21.1 in c:\\users\\sundas.mohsin\\appdata\\local\\programs\\python\\python311\\lib\\site-packages (from requests->geocoder) (2.0.4)\n",
      "Requirement already satisfied: certifi>=2017.4.17 in c:\\users\\sundas.mohsin\\appdata\\local\\programs\\python\\python311\\lib\\site-packages (from requests->geocoder) (2023.7.22)\n",
      "Requirement already satisfied: geopy in c:\\users\\sundas.mohsin\\appdata\\local\\programs\\python\\python311\\lib\\site-packages (2.3.0)\n",
      "Requirement already satisfied: geographiclib<3,>=1.52 in c:\\users\\sundas.mohsin\\appdata\\local\\programs\\python\\python311\\lib\\site-packages (from geopy) (2.0)\n"
     ]
    }
   ],
   "source": [
    "!pip install geocoder\n",
    "!pip install geopy"
   ]
  },
  {
   "cell_type": "code",
   "execution_count": 144,
   "metadata": {},
   "outputs": [
    {
     "data": {
      "text/html": [
       "<div>\n",
       "<style scoped>\n",
       "    .dataframe tbody tr th:only-of-type {\n",
       "        vertical-align: middle;\n",
       "    }\n",
       "\n",
       "    .dataframe tbody tr th {\n",
       "        vertical-align: top;\n",
       "    }\n",
       "\n",
       "    .dataframe thead th {\n",
       "        text-align: right;\n",
       "    }\n",
       "</style>\n",
       "<table border=\"1\" class=\"dataframe\">\n",
       "  <thead>\n",
       "    <tr style=\"text-align: right;\">\n",
       "      <th></th>\n",
       "      <th>index</th>\n",
       "      <th>url</th>\n",
       "      <th>address</th>\n",
       "      <th>name</th>\n",
       "      <th>online_order</th>\n",
       "      <th>book_table</th>\n",
       "      <th>rate</th>\n",
       "      <th>votes</th>\n",
       "      <th>phone</th>\n",
       "      <th>location</th>\n",
       "      <th>rest_type</th>\n",
       "      <th>dish_liked</th>\n",
       "      <th>cuisines</th>\n",
       "      <th>approx_cost(for two people)</th>\n",
       "      <th>reviews_list</th>\n",
       "      <th>menu_item</th>\n",
       "      <th>listed_in(type)</th>\n",
       "      <th>listed_in(city)</th>\n",
       "    </tr>\n",
       "  </thead>\n",
       "  <tbody>\n",
       "    <tr>\n",
       "      <th>0</th>\n",
       "      <td>0</td>\n",
       "      <td>https://www.zomato.com/bangalore/jalsa-banasha...</td>\n",
       "      <td>942, 21st Main Road, 2nd Stage, Banashankari, ...</td>\n",
       "      <td>Jalsa</td>\n",
       "      <td>Yes</td>\n",
       "      <td>Yes</td>\n",
       "      <td>4.1</td>\n",
       "      <td>775</td>\n",
       "      <td>080 42297555\\r\\n+91 9743772233</td>\n",
       "      <td>Banashankari, Bangalore, Karnataka, India</td>\n",
       "      <td>Casual Dining</td>\n",
       "      <td>Pasta, Lunch Buffet, Masala Papad, Paneer Laja...</td>\n",
       "      <td>North Indian, Mughlai, Chinese</td>\n",
       "      <td>800</td>\n",
       "      <td>[('Rated 4.0', 'RATED\\n  A beautiful place to ...</td>\n",
       "      <td>[]</td>\n",
       "      <td>Buffet</td>\n",
       "      <td>Banashankari</td>\n",
       "    </tr>\n",
       "    <tr>\n",
       "      <th>1</th>\n",
       "      <td>1</td>\n",
       "      <td>https://www.zomato.com/bangalore/spice-elephan...</td>\n",
       "      <td>2nd Floor, 80 Feet Road, Near Big Bazaar, 6th ...</td>\n",
       "      <td>Spice Elephant</td>\n",
       "      <td>Yes</td>\n",
       "      <td>No</td>\n",
       "      <td>4.1</td>\n",
       "      <td>787</td>\n",
       "      <td>080 41714161</td>\n",
       "      <td>Banashankari, Bangalore, Karnataka, India</td>\n",
       "      <td>Casual Dining</td>\n",
       "      <td>Momos, Lunch Buffet, Chocolate Nirvana, Thai G...</td>\n",
       "      <td>Chinese, North Indian, Thai</td>\n",
       "      <td>800</td>\n",
       "      <td>[('Rated 4.0', 'RATED\\n  Had been here for din...</td>\n",
       "      <td>[]</td>\n",
       "      <td>Buffet</td>\n",
       "      <td>Banashankari</td>\n",
       "    </tr>\n",
       "    <tr>\n",
       "      <th>2</th>\n",
       "      <td>2</td>\n",
       "      <td>https://www.zomato.com/SanchurroBangalore?cont...</td>\n",
       "      <td>1112, Next to KIMS Medical College, 17th Cross...</td>\n",
       "      <td>San Churro Cafe</td>\n",
       "      <td>Yes</td>\n",
       "      <td>No</td>\n",
       "      <td>3.8</td>\n",
       "      <td>918</td>\n",
       "      <td>+91 9663487993</td>\n",
       "      <td>Banashankari, Bangalore, Karnataka, India</td>\n",
       "      <td>Cafe, Casual Dining</td>\n",
       "      <td>Churros, Cannelloni, Minestrone Soup, Hot Choc...</td>\n",
       "      <td>Cafe, Mexican, Italian</td>\n",
       "      <td>800</td>\n",
       "      <td>[('Rated 3.0', \"RATED\\n  Ambience is not that ...</td>\n",
       "      <td>[]</td>\n",
       "      <td>Buffet</td>\n",
       "      <td>Banashankari</td>\n",
       "    </tr>\n",
       "  </tbody>\n",
       "</table>\n",
       "</div>"
      ],
      "text/plain": [
       "   index                                                url  \\\n",
       "0      0  https://www.zomato.com/bangalore/jalsa-banasha...   \n",
       "1      1  https://www.zomato.com/bangalore/spice-elephan...   \n",
       "2      2  https://www.zomato.com/SanchurroBangalore?cont...   \n",
       "\n",
       "                                             address             name  \\\n",
       "0  942, 21st Main Road, 2nd Stage, Banashankari, ...            Jalsa   \n",
       "1  2nd Floor, 80 Feet Road, Near Big Bazaar, 6th ...   Spice Elephant   \n",
       "2  1112, Next to KIMS Medical College, 17th Cross...  San Churro Cafe   \n",
       "\n",
       "  online_order book_table  rate  votes                           phone  \\\n",
       "0          Yes        Yes   4.1    775  080 42297555\\r\\n+91 9743772233   \n",
       "1          Yes         No   4.1    787                    080 41714161   \n",
       "2          Yes         No   3.8    918                  +91 9663487993   \n",
       "\n",
       "                                    location            rest_type  \\\n",
       "0  Banashankari, Bangalore, Karnataka, India        Casual Dining   \n",
       "1  Banashankari, Bangalore, Karnataka, India        Casual Dining   \n",
       "2  Banashankari, Bangalore, Karnataka, India  Cafe, Casual Dining   \n",
       "\n",
       "                                          dish_liked  \\\n",
       "0  Pasta, Lunch Buffet, Masala Papad, Paneer Laja...   \n",
       "1  Momos, Lunch Buffet, Chocolate Nirvana, Thai G...   \n",
       "2  Churros, Cannelloni, Minestrone Soup, Hot Choc...   \n",
       "\n",
       "                         cuisines approx_cost(for two people)  \\\n",
       "0  North Indian, Mughlai, Chinese                         800   \n",
       "1     Chinese, North Indian, Thai                         800   \n",
       "2          Cafe, Mexican, Italian                         800   \n",
       "\n",
       "                                        reviews_list menu_item  \\\n",
       "0  [('Rated 4.0', 'RATED\\n  A beautiful place to ...        []   \n",
       "1  [('Rated 4.0', 'RATED\\n  Had been here for din...        []   \n",
       "2  [('Rated 3.0', \"RATED\\n  Ambience is not that ...        []   \n",
       "\n",
       "  listed_in(type) listed_in(city)  \n",
       "0          Buffet    Banashankari  \n",
       "1          Buffet    Banashankari  \n",
       "2          Buffet    Banashankari  "
      ]
     },
     "execution_count": 144,
     "metadata": {},
     "output_type": "execute_result"
    }
   ],
   "source": [
    "df.head(3)"
   ]
  },
  {
   "cell_type": "code",
   "execution_count": 99,
   "metadata": {},
   "outputs": [
    {
     "data": {
      "text/plain": [
       "0                      Banashankari\n",
       "1                      Banashankari\n",
       "2                      Banashankari\n",
       "3                      Banashankari\n",
       "4                      Basavanagudi\n",
       "                    ...            \n",
       "51712                    Whitefield\n",
       "51713                    Whitefield\n",
       "51714                    Whitefield\n",
       "51715    ITPL Main Road, Whitefield\n",
       "51716    ITPL Main Road, Whitefield\n",
       "Name: location, Length: 51717, dtype: object"
      ]
     },
     "execution_count": 99,
     "metadata": {},
     "output_type": "execute_result"
    }
   ],
   "source": [
    "df['location']"
   ]
  },
  {
   "cell_type": "code",
   "execution_count": 100,
   "metadata": {},
   "outputs": [
    {
     "data": {
      "text/plain": [
       "array(['Banashankari', 'Basavanagudi', 'Mysore Road', 'Jayanagar',\n",
       "       'Kumaraswamy Layout', 'Rajarajeshwari Nagar', 'Vijay Nagar',\n",
       "       'Uttarahalli', 'JP Nagar', 'South Bangalore', 'City Market',\n",
       "       'Nagarbhavi', 'Bannerghatta Road', 'BTM', 'Kanakapura Road',\n",
       "       'Bommanahalli', None, 'CV Raman Nagar', 'Electronic City', 'HSR',\n",
       "       'Marathahalli', 'Sarjapur Road', 'Wilson Garden', 'Shanti Nagar',\n",
       "       'Koramangala 5th Block', 'Koramangala 8th Block', 'Richmond Road',\n",
       "       'Koramangala 7th Block', 'Jalahalli', 'Koramangala 4th Block',\n",
       "       'Bellandur', 'Whitefield', 'East Bangalore', 'Old Airport Road',\n",
       "       'Indiranagar', 'Koramangala 1st Block', 'Frazer Town', 'RT Nagar',\n",
       "       'MG Road', 'Brigade Road', 'Lavelle Road', 'Church Street',\n",
       "       'Ulsoor', 'Residency Road', 'Shivajinagar', 'Infantry Road',\n",
       "       'St. Marks Road', 'Cunningham Road', 'Race Course Road',\n",
       "       'Commercial Street', 'Vasanth Nagar', 'HBR Layout', 'Domlur',\n",
       "       'Ejipura', 'Jeevan Bhima Nagar', 'Old Madras Road', 'Malleshwaram',\n",
       "       'Seshadripuram', 'Kammanahalli', 'Koramangala 6th Block',\n",
       "       'Majestic', 'Langford Town', 'Central Bangalore', 'Sanjay Nagar',\n",
       "       'Brookefield', 'ITPL Main Road, Whitefield',\n",
       "       'Varthur Main Road, Whitefield', 'KR Puram',\n",
       "       'Koramangala 2nd Block', 'Koramangala 3rd Block', 'Koramangala',\n",
       "       'Hosur Road', 'Rajajinagar', 'Banaswadi', 'North Bangalore',\n",
       "       'Nagawara', 'Hennur', 'Kalyan Nagar', 'New BEL Road', 'Jakkur',\n",
       "       'Rammurthy Nagar', 'Thippasandra', 'Kaggadasapura', 'Hebbal',\n",
       "       'Kengeri', 'Sankey Road', 'Sadashiv Nagar', 'Basaveshwara Nagar',\n",
       "       'Yeshwantpur', 'West Bangalore', 'Magadi Road', 'Yelahanka',\n",
       "       'Sahakara Nagar', 'Peenya'], dtype=object)"
      ]
     },
     "execution_count": 100,
     "metadata": {},
     "output_type": "execute_result"
    }
   ],
   "source": [
    "df['location'].unique()"
   ]
  },
  {
   "cell_type": "code",
   "execution_count": 102,
   "metadata": {},
   "outputs": [
    {
     "data": {
      "text/plain": [
       "94"
      ]
     },
     "execution_count": 102,
     "metadata": {},
     "output_type": "execute_result"
    }
   ],
   "source": [
    "len(df['location'].unique())"
   ]
  },
  {
   "cell_type": "code",
   "execution_count": 101,
   "metadata": {},
   "outputs": [],
   "source": [
    "df['location'] = df['location'] + ', Bangalore, Karnataka, India'"
   ]
  },
  {
   "cell_type": "code",
   "execution_count": 103,
   "metadata": {},
   "outputs": [
    {
     "data": {
      "text/plain": [
       "0                Banashankari, Bangalore, Karnataka, India\n",
       "1                Banashankari, Bangalore, Karnataka, India\n",
       "2                Banashankari, Bangalore, Karnataka, India\n",
       "3                Banashankari, Bangalore, Karnataka, India\n",
       "4                Basavanagudi, Bangalore, Karnataka, India\n",
       "                               ...                        \n",
       "51712              Whitefield, Bangalore, Karnataka, India\n",
       "51713              Whitefield, Bangalore, Karnataka, India\n",
       "51714              Whitefield, Bangalore, Karnataka, India\n",
       "51715    ITPL Main Road, Whitefield, Bangalore, Karnata...\n",
       "51716    ITPL Main Road, Whitefield, Bangalore, Karnata...\n",
       "Name: location, Length: 51717, dtype: object"
      ]
     },
     "execution_count": 103,
     "metadata": {},
     "output_type": "execute_result"
    }
   ],
   "source": [
    "df['location']"
   ]
  },
  {
   "cell_type": "code",
   "execution_count": 145,
   "metadata": {},
   "outputs": [],
   "source": [
    "dfcopy = df.copy()"
   ]
  },
  {
   "cell_type": "code",
   "execution_count": 146,
   "metadata": {},
   "outputs": [
    {
     "data": {
      "text/plain": [
       "0"
      ]
     },
     "execution_count": 146,
     "metadata": {},
     "output_type": "execute_result"
    }
   ],
   "source": [
    "dfcopy['location'].isnull().sum()"
   ]
  },
  {
   "cell_type": "code",
   "execution_count": 147,
   "metadata": {},
   "outputs": [],
   "source": [
    "ldf = dfcopy.dropna(subset=['location'])"
   ]
  },
  {
   "cell_type": "code",
   "execution_count": 149,
   "metadata": {},
   "outputs": [
    {
     "data": {
      "text/html": [
       "<div>\n",
       "<style scoped>\n",
       "    .dataframe tbody tr th:only-of-type {\n",
       "        vertical-align: middle;\n",
       "    }\n",
       "\n",
       "    .dataframe tbody tr th {\n",
       "        vertical-align: top;\n",
       "    }\n",
       "\n",
       "    .dataframe thead th {\n",
       "        text-align: right;\n",
       "    }\n",
       "</style>\n",
       "<table border=\"1\" class=\"dataframe\">\n",
       "  <thead>\n",
       "    <tr style=\"text-align: right;\">\n",
       "      <th></th>\n",
       "      <th>Locations</th>\n",
       "    </tr>\n",
       "  </thead>\n",
       "  <tbody>\n",
       "    <tr>\n",
       "      <th>0</th>\n",
       "      <td>Banashankari, Bangalore, Karnataka, India</td>\n",
       "    </tr>\n",
       "    <tr>\n",
       "      <th>1</th>\n",
       "      <td>Basavanagudi, Bangalore, Karnataka, India</td>\n",
       "    </tr>\n",
       "    <tr>\n",
       "      <th>2</th>\n",
       "      <td>Mysore Road, Bangalore, Karnataka, India</td>\n",
       "    </tr>\n",
       "    <tr>\n",
       "      <th>3</th>\n",
       "      <td>Jayanagar, Bangalore, Karnataka, India</td>\n",
       "    </tr>\n",
       "    <tr>\n",
       "      <th>4</th>\n",
       "      <td>Kumaraswamy Layout, Bangalore, Karnataka, India</td>\n",
       "    </tr>\n",
       "  </tbody>\n",
       "</table>\n",
       "</div>"
      ],
      "text/plain": [
       "                                         Locations\n",
       "0        Banashankari, Bangalore, Karnataka, India\n",
       "1        Basavanagudi, Bangalore, Karnataka, India\n",
       "2         Mysore Road, Bangalore, Karnataka, India\n",
       "3           Jayanagar, Bangalore, Karnataka, India\n",
       "4  Kumaraswamy Layout, Bangalore, Karnataka, India"
      ]
     },
     "execution_count": 149,
     "metadata": {},
     "output_type": "execute_result"
    }
   ],
   "source": [
    "locations = pd.DataFrame()\n",
    "locations['Locations'] = pd.DataFrame(ldf['location'].unique())\n",
    "locations.head(5)"
   ]
  },
  {
   "cell_type": "code",
   "execution_count": 150,
   "metadata": {},
   "outputs": [],
   "source": [
    "from geopy.geocoders import Nominatim\n",
    "\n",
    "geoLocator = Nominatim(user_agent='app', timeout=None)"
   ]
  },
  {
   "cell_type": "code",
   "execution_count": 151,
   "metadata": {},
   "outputs": [],
   "source": [
    "lat = []\n",
    "lon = []\n",
    "# using geocode to save certain location latitude and longitude values\n",
    "for location in locations['Locations']:\n",
    "    location = geoLocator.geocode(location)\n",
    "    if location is None:\n",
    "        lat.append(np.nan)\n",
    "        lon.append(np.nan)\n",
    "    else:\n",
    "        lat.append(location.latitude)\n",
    "        lon.append(location.longitude)\n",
    "\n"
   ]
  },
  {
   "cell_type": "code",
   "execution_count": 152,
   "metadata": {},
   "outputs": [
    {
     "data": {
      "text/html": [
       "<div>\n",
       "<style scoped>\n",
       "    .dataframe tbody tr th:only-of-type {\n",
       "        vertical-align: middle;\n",
       "    }\n",
       "\n",
       "    .dataframe tbody tr th {\n",
       "        vertical-align: top;\n",
       "    }\n",
       "\n",
       "    .dataframe thead th {\n",
       "        text-align: right;\n",
       "    }\n",
       "</style>\n",
       "<table border=\"1\" class=\"dataframe\">\n",
       "  <thead>\n",
       "    <tr style=\"text-align: right;\">\n",
       "      <th></th>\n",
       "      <th>Locations</th>\n",
       "      <th>latitude</th>\n",
       "      <th>longitude</th>\n",
       "    </tr>\n",
       "  </thead>\n",
       "  <tbody>\n",
       "    <tr>\n",
       "      <th>0</th>\n",
       "      <td>Banashankari, Bangalore, Karnataka, India</td>\n",
       "      <td>12.915221</td>\n",
       "      <td>77.573598</td>\n",
       "    </tr>\n",
       "    <tr>\n",
       "      <th>1</th>\n",
       "      <td>Basavanagudi, Bangalore, Karnataka, India</td>\n",
       "      <td>12.941726</td>\n",
       "      <td>77.575502</td>\n",
       "    </tr>\n",
       "    <tr>\n",
       "      <th>2</th>\n",
       "      <td>Mysore Road, Bangalore, Karnataka, India</td>\n",
       "      <td>12.946703</td>\n",
       "      <td>77.530070</td>\n",
       "    </tr>\n",
       "  </tbody>\n",
       "</table>\n",
       "</div>"
      ],
      "text/plain": [
       "                                   Locations   latitude  longitude\n",
       "0  Banashankari, Bangalore, Karnataka, India  12.915221  77.573598\n",
       "1  Basavanagudi, Bangalore, Karnataka, India  12.941726  77.575502\n",
       "2   Mysore Road, Bangalore, Karnataka, India  12.946703  77.530070"
      ]
     },
     "execution_count": 152,
     "metadata": {},
     "output_type": "execute_result"
    }
   ],
   "source": [
    "locations['latitude'] = lat\n",
    "locations['longitude'] = lon\n",
    "\n",
    "locations.head(3)"
   ]
  },
  {
   "cell_type": "markdown",
   "metadata": {},
   "source": [
    "Creating Geographical Heatmaps"
   ]
  },
  {
   "cell_type": "code",
   "execution_count": 114,
   "metadata": {},
   "outputs": [
    {
     "data": {
      "text/plain": [
       "Locations    0\n",
       "latitude     2\n",
       "longitude    2\n",
       "dtype: int64"
      ]
     },
     "execution_count": 114,
     "metadata": {},
     "output_type": "execute_result"
    }
   ],
   "source": [
    "locations.isnull().sum()"
   ]
  },
  {
   "cell_type": "code",
   "execution_count": 115,
   "metadata": {},
   "outputs": [
    {
     "data": {
      "text/html": [
       "<div>\n",
       "<style scoped>\n",
       "    .dataframe tbody tr th:only-of-type {\n",
       "        vertical-align: middle;\n",
       "    }\n",
       "\n",
       "    .dataframe tbody tr th {\n",
       "        vertical-align: top;\n",
       "    }\n",
       "\n",
       "    .dataframe thead th {\n",
       "        text-align: right;\n",
       "    }\n",
       "</style>\n",
       "<table border=\"1\" class=\"dataframe\">\n",
       "  <thead>\n",
       "    <tr style=\"text-align: right;\">\n",
       "      <th></th>\n",
       "      <th>Locations</th>\n",
       "      <th>latitude</th>\n",
       "      <th>longitude</th>\n",
       "    </tr>\n",
       "  </thead>\n",
       "  <tbody>\n",
       "    <tr>\n",
       "      <th>79</th>\n",
       "      <td>Rammurthy Nagar, Bangalore, Karnataka, India</td>\n",
       "      <td>NaN</td>\n",
       "      <td>NaN</td>\n",
       "    </tr>\n",
       "    <tr>\n",
       "      <th>85</th>\n",
       "      <td>Sadashiv Nagar, Bangalore, Karnataka, India</td>\n",
       "      <td>NaN</td>\n",
       "      <td>NaN</td>\n",
       "    </tr>\n",
       "  </tbody>\n",
       "</table>\n",
       "</div>"
      ],
      "text/plain": [
       "                                       Locations  latitude  longitude\n",
       "79  Rammurthy Nagar, Bangalore, Karnataka, India       NaN        NaN\n",
       "85   Sadashiv Nagar, Bangalore, Karnataka, India       NaN        NaN"
      ]
     },
     "execution_count": 115,
     "metadata": {},
     "output_type": "execute_result"
    }
   ],
   "source": [
    "locations[locations['latitude'].isna()]\n"
   ]
  },
  {
   "cell_type": "code",
   "execution_count": 116,
   "metadata": {},
   "outputs": [],
   "source": [
    "import warnings\n",
    "from warnings import filterwarnings\n",
    "filterwarnings('ignore')"
   ]
  },
  {
   "cell_type": "code",
   "execution_count": 117,
   "metadata": {},
   "outputs": [],
   "source": [
    "locations['latitude'][45] = 12.9764122\n",
    "locations['longitude'][45] = 77.6017437\n",
    "\n",
    "locations['latitude'][79] = 13.0163\n",
    "locations['longitude'][79] = 77.6785\n",
    "\n",
    "locations['latitude'][85] = 13.0068\n",
    "locations['longitude'][85] = 77.5813"
   ]
  },
  {
   "cell_type": "code",
   "execution_count": 127,
   "metadata": {},
   "outputs": [
    {
     "data": {
      "text/html": [
       "<div>\n",
       "<style scoped>\n",
       "    .dataframe tbody tr th:only-of-type {\n",
       "        vertical-align: middle;\n",
       "    }\n",
       "\n",
       "    .dataframe tbody tr th {\n",
       "        vertical-align: top;\n",
       "    }\n",
       "\n",
       "    .dataframe thead th {\n",
       "        text-align: right;\n",
       "    }\n",
       "</style>\n",
       "<table border=\"1\" class=\"dataframe\">\n",
       "  <thead>\n",
       "    <tr style=\"text-align: right;\">\n",
       "      <th></th>\n",
       "      <th>Locations</th>\n",
       "      <th>latitude</th>\n",
       "      <th>longitude</th>\n",
       "    </tr>\n",
       "  </thead>\n",
       "  <tbody>\n",
       "    <tr>\n",
       "      <th>0</th>\n",
       "      <td>Banashankari, Bangalore, Karnataka, India</td>\n",
       "      <td>12.915221</td>\n",
       "      <td>77.573598</td>\n",
       "    </tr>\n",
       "    <tr>\n",
       "      <th>1</th>\n",
       "      <td>Basavanagudi, Bangalore, Karnataka, India</td>\n",
       "      <td>12.941726</td>\n",
       "      <td>77.575502</td>\n",
       "    </tr>\n",
       "    <tr>\n",
       "      <th>2</th>\n",
       "      <td>Mysore Road, Bangalore, Karnataka, India</td>\n",
       "      <td>12.946703</td>\n",
       "      <td>77.530070</td>\n",
       "    </tr>\n",
       "  </tbody>\n",
       "</table>\n",
       "</div>"
      ],
      "text/plain": [
       "                                   Locations   latitude  longitude\n",
       "0  Banashankari, Bangalore, Karnataka, India  12.915221  77.573598\n",
       "1  Basavanagudi, Bangalore, Karnataka, India  12.941726  77.575502\n",
       "2   Mysore Road, Bangalore, Karnataka, India  12.946703  77.530070"
      ]
     },
     "execution_count": 127,
     "metadata": {},
     "output_type": "execute_result"
    }
   ],
   "source": [
    "locations.head(3)"
   ]
  },
  {
   "cell_type": "code",
   "execution_count": 118,
   "metadata": {},
   "outputs": [
    {
     "data": {
      "text/plain": [
       "45"
      ]
     },
     "execution_count": 118,
     "metadata": {},
     "output_type": "execute_result"
    }
   ],
   "source": [
    "df['cuisines'].isnull().sum()"
   ]
  },
  {
   "cell_type": "code",
   "execution_count": 119,
   "metadata": {},
   "outputs": [],
   "source": [
    "df = df.dropna(subset=['cuisines'])"
   ]
  },
  {
   "cell_type": "code",
   "execution_count": 120,
   "metadata": {},
   "outputs": [],
   "source": [
    "northIndia = df[df['cuisines'].str.contains('North Indian')]"
   ]
  },
  {
   "cell_type": "code",
   "execution_count": 121,
   "metadata": {},
   "outputs": [
    {
     "data": {
      "text/plain": [
       "(21085, 18)"
      ]
     },
     "execution_count": 121,
     "metadata": {},
     "output_type": "execute_result"
    }
   ],
   "source": [
    "northIndia.shape"
   ]
  },
  {
   "cell_type": "code",
   "execution_count": 129,
   "metadata": {},
   "outputs": [
    {
     "data": {
      "text/html": [
       "<div>\n",
       "<style scoped>\n",
       "    .dataframe tbody tr th:only-of-type {\n",
       "        vertical-align: middle;\n",
       "    }\n",
       "\n",
       "    .dataframe tbody tr th {\n",
       "        vertical-align: top;\n",
       "    }\n",
       "\n",
       "    .dataframe thead th {\n",
       "        text-align: right;\n",
       "    }\n",
       "</style>\n",
       "<table border=\"1\" class=\"dataframe\">\n",
       "  <thead>\n",
       "    <tr style=\"text-align: right;\">\n",
       "      <th></th>\n",
       "      <th>Locations</th>\n",
       "      <th>count</th>\n",
       "    </tr>\n",
       "  </thead>\n",
       "  <tbody>\n",
       "    <tr>\n",
       "      <th>0</th>\n",
       "      <td>BTM, Bangalore, Karnataka, India</td>\n",
       "      <td>2469</td>\n",
       "    </tr>\n",
       "    <tr>\n",
       "      <th>1</th>\n",
       "      <td>HSR, Bangalore, Karnataka, India</td>\n",
       "      <td>1123</td>\n",
       "    </tr>\n",
       "    <tr>\n",
       "      <th>2</th>\n",
       "      <td>Whitefield, Bangalore, Karnataka, India</td>\n",
       "      <td>1059</td>\n",
       "    </tr>\n",
       "    <tr>\n",
       "      <th>3</th>\n",
       "      <td>Marathahalli, Bangalore, Karnataka, India</td>\n",
       "      <td>1038</td>\n",
       "    </tr>\n",
       "    <tr>\n",
       "      <th>4</th>\n",
       "      <td>JP Nagar, Bangalore, Karnataka, India</td>\n",
       "      <td>958</td>\n",
       "    </tr>\n",
       "    <tr>\n",
       "      <th>...</th>\n",
       "      <td>...</td>\n",
       "      <td>...</td>\n",
       "    </tr>\n",
       "    <tr>\n",
       "      <th>85</th>\n",
       "      <td>Hebbal, Bangalore, Karnataka, India</td>\n",
       "      <td>4</td>\n",
       "    </tr>\n",
       "    <tr>\n",
       "      <th>86</th>\n",
       "      <td>Jakkur, Bangalore, Karnataka, India</td>\n",
       "      <td>3</td>\n",
       "    </tr>\n",
       "    <tr>\n",
       "      <th>87</th>\n",
       "      <td>Central Bangalore, Bangalore, Karnataka, India</td>\n",
       "      <td>2</td>\n",
       "    </tr>\n",
       "    <tr>\n",
       "      <th>88</th>\n",
       "      <td>West Bangalore, Bangalore, Karnataka, India</td>\n",
       "      <td>1</td>\n",
       "    </tr>\n",
       "    <tr>\n",
       "      <th>89</th>\n",
       "      <td>Peenya, Bangalore, Karnataka, India</td>\n",
       "      <td>1</td>\n",
       "    </tr>\n",
       "  </tbody>\n",
       "</table>\n",
       "<p>90 rows × 2 columns</p>\n",
       "</div>"
      ],
      "text/plain": [
       "                                         Locations  count\n",
       "0                 BTM, Bangalore, Karnataka, India   2469\n",
       "1                 HSR, Bangalore, Karnataka, India   1123\n",
       "2          Whitefield, Bangalore, Karnataka, India   1059\n",
       "3        Marathahalli, Bangalore, Karnataka, India   1038\n",
       "4            JP Nagar, Bangalore, Karnataka, India    958\n",
       "..                                             ...    ...\n",
       "85             Hebbal, Bangalore, Karnataka, India      4\n",
       "86             Jakkur, Bangalore, Karnataka, India      3\n",
       "87  Central Bangalore, Bangalore, Karnataka, India      2\n",
       "88     West Bangalore, Bangalore, Karnataka, India      1\n",
       "89             Peenya, Bangalore, Karnataka, India      1\n",
       "\n",
       "[90 rows x 2 columns]"
      ]
     },
     "execution_count": 129,
     "metadata": {},
     "output_type": "execute_result"
    }
   ],
   "source": [
    "restCount = northIndia['location'].value_counts().reset_index().rename(columns={'location':'Locations'})\n",
    "restCount"
   ]
  },
  {
   "cell_type": "code",
   "execution_count": 153,
   "metadata": {},
   "outputs": [
    {
     "data": {
      "text/html": [
       "<div>\n",
       "<style scoped>\n",
       "    .dataframe tbody tr th:only-of-type {\n",
       "        vertical-align: middle;\n",
       "    }\n",
       "\n",
       "    .dataframe tbody tr th {\n",
       "        vertical-align: top;\n",
       "    }\n",
       "\n",
       "    .dataframe thead th {\n",
       "        text-align: right;\n",
       "    }\n",
       "</style>\n",
       "<table border=\"1\" class=\"dataframe\">\n",
       "  <thead>\n",
       "    <tr style=\"text-align: right;\">\n",
       "      <th></th>\n",
       "      <th>Locations</th>\n",
       "      <th>count</th>\n",
       "      <th>latitude</th>\n",
       "      <th>longitude</th>\n",
       "    </tr>\n",
       "  </thead>\n",
       "  <tbody>\n",
       "    <tr>\n",
       "      <th>0</th>\n",
       "      <td>BTM, Bangalore, Karnataka, India</td>\n",
       "      <td>2469</td>\n",
       "      <td>12.911276</td>\n",
       "      <td>77.604565</td>\n",
       "    </tr>\n",
       "    <tr>\n",
       "      <th>1</th>\n",
       "      <td>HSR, Bangalore, Karnataka, India</td>\n",
       "      <td>1123</td>\n",
       "      <td>12.911623</td>\n",
       "      <td>77.638862</td>\n",
       "    </tr>\n",
       "    <tr>\n",
       "      <th>2</th>\n",
       "      <td>Whitefield, Bangalore, Karnataka, India</td>\n",
       "      <td>1059</td>\n",
       "      <td>12.969637</td>\n",
       "      <td>77.749745</td>\n",
       "    </tr>\n",
       "    <tr>\n",
       "      <th>3</th>\n",
       "      <td>Marathahalli, Bangalore, Karnataka, India</td>\n",
       "      <td>1038</td>\n",
       "      <td>12.955257</td>\n",
       "      <td>77.698416</td>\n",
       "    </tr>\n",
       "    <tr>\n",
       "      <th>4</th>\n",
       "      <td>JP Nagar, Bangalore, Karnataka, India</td>\n",
       "      <td>958</td>\n",
       "      <td>12.915149</td>\n",
       "      <td>77.585702</td>\n",
       "    </tr>\n",
       "    <tr>\n",
       "      <th>5</th>\n",
       "      <td>Koramangala 5th Block, Bangalore, Karnataka, I...</td>\n",
       "      <td>755</td>\n",
       "      <td>12.934843</td>\n",
       "      <td>77.618977</td>\n",
       "    </tr>\n",
       "    <tr>\n",
       "      <th>6</th>\n",
       "      <td>Bannerghatta Road, Bangalore, Karnataka, India</td>\n",
       "      <td>701</td>\n",
       "      <td>12.908819</td>\n",
       "      <td>77.600320</td>\n",
       "    </tr>\n",
       "    <tr>\n",
       "      <th>7</th>\n",
       "      <td>Indiranagar, Bangalore, Karnataka, India</td>\n",
       "      <td>678</td>\n",
       "      <td>12.973291</td>\n",
       "      <td>77.640467</td>\n",
       "    </tr>\n",
       "    <tr>\n",
       "      <th>8</th>\n",
       "      <td>Electronic City, Bangalore, Karnataka, India</td>\n",
       "      <td>675</td>\n",
       "      <td>12.848760</td>\n",
       "      <td>77.648253</td>\n",
       "    </tr>\n",
       "    <tr>\n",
       "      <th>9</th>\n",
       "      <td>Jayanagar, Bangalore, Karnataka, India</td>\n",
       "      <td>664</td>\n",
       "      <td>12.929273</td>\n",
       "      <td>77.582423</td>\n",
       "    </tr>\n",
       "    <tr>\n",
       "      <th>10</th>\n",
       "      <td>Bellandur, Bangalore, Karnataka, India</td>\n",
       "      <td>659</td>\n",
       "      <td>12.931032</td>\n",
       "      <td>77.678247</td>\n",
       "    </tr>\n",
       "    <tr>\n",
       "      <th>11</th>\n",
       "      <td>Koramangala 1st Block, Bangalore, Karnataka, I...</td>\n",
       "      <td>601</td>\n",
       "      <td>12.927725</td>\n",
       "      <td>77.632782</td>\n",
       "    </tr>\n",
       "    <tr>\n",
       "      <th>12</th>\n",
       "      <td>Sarjapur Road, Bangalore, Karnataka, India</td>\n",
       "      <td>529</td>\n",
       "      <td>12.923764</td>\n",
       "      <td>77.654073</td>\n",
       "    </tr>\n",
       "    <tr>\n",
       "      <th>13</th>\n",
       "      <td>Koramangala 6th Block, Bangalore, Karnataka, I...</td>\n",
       "      <td>408</td>\n",
       "      <td>12.939025</td>\n",
       "      <td>77.623848</td>\n",
       "    </tr>\n",
       "    <tr>\n",
       "      <th>14</th>\n",
       "      <td>Koramangala 7th Block, Bangalore, Karnataka, I...</td>\n",
       "      <td>390</td>\n",
       "      <td>12.936485</td>\n",
       "      <td>77.613478</td>\n",
       "    </tr>\n",
       "    <tr>\n",
       "      <th>15</th>\n",
       "      <td>Ulsoor, Bangalore, Karnataka, India</td>\n",
       "      <td>376</td>\n",
       "      <td>12.977879</td>\n",
       "      <td>77.624670</td>\n",
       "    </tr>\n",
       "    <tr>\n",
       "      <th>16</th>\n",
       "      <td>MG Road, Bangalore, Karnataka, India</td>\n",
       "      <td>359</td>\n",
       "      <td>12.975526</td>\n",
       "      <td>77.606790</td>\n",
       "    </tr>\n",
       "    <tr>\n",
       "      <th>17</th>\n",
       "      <td>Koramangala 4th Block, Bangalore, Karnataka, I...</td>\n",
       "      <td>351</td>\n",
       "      <td>12.932778</td>\n",
       "      <td>77.629405</td>\n",
       "    </tr>\n",
       "    <tr>\n",
       "      <th>18</th>\n",
       "      <td>Brigade Road, Bangalore, Karnataka, India</td>\n",
       "      <td>323</td>\n",
       "      <td>12.973613</td>\n",
       "      <td>77.607472</td>\n",
       "    </tr>\n",
       "    <tr>\n",
       "      <th>19</th>\n",
       "      <td>Richmond Road, Bangalore, Karnataka, India</td>\n",
       "      <td>312</td>\n",
       "      <td>12.970047</td>\n",
       "      <td>77.617104</td>\n",
       "    </tr>\n",
       "  </tbody>\n",
       "</table>\n",
       "</div>"
      ],
      "text/plain": [
       "                                            Locations  count   latitude  \\\n",
       "0                    BTM, Bangalore, Karnataka, India   2469  12.911276   \n",
       "1                    HSR, Bangalore, Karnataka, India   1123  12.911623   \n",
       "2             Whitefield, Bangalore, Karnataka, India   1059  12.969637   \n",
       "3           Marathahalli, Bangalore, Karnataka, India   1038  12.955257   \n",
       "4               JP Nagar, Bangalore, Karnataka, India    958  12.915149   \n",
       "5   Koramangala 5th Block, Bangalore, Karnataka, I...    755  12.934843   \n",
       "6      Bannerghatta Road, Bangalore, Karnataka, India    701  12.908819   \n",
       "7            Indiranagar, Bangalore, Karnataka, India    678  12.973291   \n",
       "8        Electronic City, Bangalore, Karnataka, India    675  12.848760   \n",
       "9              Jayanagar, Bangalore, Karnataka, India    664  12.929273   \n",
       "10             Bellandur, Bangalore, Karnataka, India    659  12.931032   \n",
       "11  Koramangala 1st Block, Bangalore, Karnataka, I...    601  12.927725   \n",
       "12         Sarjapur Road, Bangalore, Karnataka, India    529  12.923764   \n",
       "13  Koramangala 6th Block, Bangalore, Karnataka, I...    408  12.939025   \n",
       "14  Koramangala 7th Block, Bangalore, Karnataka, I...    390  12.936485   \n",
       "15                Ulsoor, Bangalore, Karnataka, India    376  12.977879   \n",
       "16               MG Road, Bangalore, Karnataka, India    359  12.975526   \n",
       "17  Koramangala 4th Block, Bangalore, Karnataka, I...    351  12.932778   \n",
       "18          Brigade Road, Bangalore, Karnataka, India    323  12.973613   \n",
       "19         Richmond Road, Bangalore, Karnataka, India    312  12.970047   \n",
       "\n",
       "    longitude  \n",
       "0   77.604565  \n",
       "1   77.638862  \n",
       "2   77.749745  \n",
       "3   77.698416  \n",
       "4   77.585702  \n",
       "5   77.618977  \n",
       "6   77.600320  \n",
       "7   77.640467  \n",
       "8   77.648253  \n",
       "9   77.582423  \n",
       "10  77.678247  \n",
       "11  77.632782  \n",
       "12  77.654073  \n",
       "13  77.623848  \n",
       "14  77.613478  \n",
       "15  77.624670  \n",
       "16  77.606790  \n",
       "17  77.629405  \n",
       "18  77.607472  \n",
       "19  77.617104  "
      ]
     },
     "execution_count": 153,
     "metadata": {},
     "output_type": "execute_result"
    }
   ],
   "source": [
    "heatmap_df = restCount.merge(locations, on='Locations', how='left')\n",
    "heatmap_df.head(20)"
   ]
  },
  {
   "cell_type": "code",
   "execution_count": null,
   "metadata": {},
   "outputs": [],
   "source": [
    "!pip install folium"
   ]
  },
  {
   "cell_type": "code",
   "execution_count": 141,
   "metadata": {},
   "outputs": [],
   "source": [
    "import folium\n",
    "from folium.plugins import HeatMap\n",
    "\n",
    "def getHeatmap (reqCuisine):\n",
    "    cuisine_df = df[df['cuisines'].str.contains(reqCuisine)]\n",
    "    c_restCount = cuisine_df['location'].value_counts().reset_index().rename(columns={'location':'Locations'})\n",
    "    c_heatmap_df = c_restCount.merge(locations, on='Locations', how='left')\n",
    "    bMap = folium.Map()\n",
    "    HeatMap(c_heatmap_df[['latitude', 'longitude', 'count']]).add_to(bMap)\n",
    "    return bMap\n",
    "\n"
   ]
  },
  {
   "cell_type": "code",
   "execution_count": 137,
   "metadata": {},
   "outputs": [
    {
     "data": {
      "text/plain": [
       "array(['North Indian, Mughlai, Chinese', 'Chinese, North Indian, Thai',\n",
       "       'Cafe, Mexican, Italian', ...,\n",
       "       'North Indian, Street Food, Biryani', 'Chinese, Mughlai',\n",
       "       'North Indian, Chinese, Arabian, Momos'], dtype=object)"
      ]
     },
     "execution_count": 137,
     "metadata": {},
     "output_type": "execute_result"
    }
   ],
   "source": [
    "df['cuisines'].unique()"
   ]
  },
  {
   "cell_type": "code",
   "execution_count": 140,
   "metadata": {},
   "outputs": [
    {
     "data": {
      "text/html": [
       "<div style=\"width:100%;\"><div style=\"position:relative;width:100%;height:0;padding-bottom:60%;\"><span style=\"color:#565656\">Make this Notebook Trusted to load map: File -> Trust Notebook</span><iframe srcdoc=\"&lt;!DOCTYPE html&gt;\n",
       "&lt;html&gt;\n",
       "&lt;head&gt;\n",
       "    \n",
       "    &lt;meta http-equiv=&quot;content-type&quot; content=&quot;text/html; charset=UTF-8&quot; /&gt;\n",
       "    \n",
       "        &lt;script&gt;\n",
       "            L_NO_TOUCH = false;\n",
       "            L_DISABLE_3D = false;\n",
       "        &lt;/script&gt;\n",
       "    \n",
       "    &lt;style&gt;html, body {width: 100%;height: 100%;margin: 0;padding: 0;}&lt;/style&gt;\n",
       "    &lt;style&gt;#map {position:absolute;top:0;bottom:0;right:0;left:0;}&lt;/style&gt;\n",
       "    &lt;script src=&quot;https://cdn.jsdelivr.net/npm/leaflet@1.9.3/dist/leaflet.js&quot;&gt;&lt;/script&gt;\n",
       "    &lt;script src=&quot;https://code.jquery.com/jquery-1.12.4.min.js&quot;&gt;&lt;/script&gt;\n",
       "    &lt;script src=&quot;https://cdn.jsdelivr.net/npm/bootstrap@5.2.2/dist/js/bootstrap.bundle.min.js&quot;&gt;&lt;/script&gt;\n",
       "    &lt;script src=&quot;https://cdnjs.cloudflare.com/ajax/libs/Leaflet.awesome-markers/2.0.2/leaflet.awesome-markers.js&quot;&gt;&lt;/script&gt;\n",
       "    &lt;link rel=&quot;stylesheet&quot; href=&quot;https://cdn.jsdelivr.net/npm/leaflet@1.9.3/dist/leaflet.css&quot;/&gt;\n",
       "    &lt;link rel=&quot;stylesheet&quot; href=&quot;https://cdn.jsdelivr.net/npm/bootstrap@5.2.2/dist/css/bootstrap.min.css&quot;/&gt;\n",
       "    &lt;link rel=&quot;stylesheet&quot; href=&quot;https://netdna.bootstrapcdn.com/bootstrap/3.0.0/css/bootstrap.min.css&quot;/&gt;\n",
       "    &lt;link rel=&quot;stylesheet&quot; href=&quot;https://cdn.jsdelivr.net/npm/@fortawesome/fontawesome-free@6.2.0/css/all.min.css&quot;/&gt;\n",
       "    &lt;link rel=&quot;stylesheet&quot; href=&quot;https://cdnjs.cloudflare.com/ajax/libs/Leaflet.awesome-markers/2.0.2/leaflet.awesome-markers.css&quot;/&gt;\n",
       "    &lt;link rel=&quot;stylesheet&quot; href=&quot;https://cdn.jsdelivr.net/gh/python-visualization/folium/folium/templates/leaflet.awesome.rotate.min.css&quot;/&gt;\n",
       "    \n",
       "            &lt;meta name=&quot;viewport&quot; content=&quot;width=device-width,\n",
       "                initial-scale=1.0, maximum-scale=1.0, user-scalable=no&quot; /&gt;\n",
       "            &lt;style&gt;\n",
       "                #map_40de07beaf66a3d9433d065acb6089bb {\n",
       "                    position: relative;\n",
       "                    width: 100.0%;\n",
       "                    height: 100.0%;\n",
       "                    left: 0.0%;\n",
       "                    top: 0.0%;\n",
       "                }\n",
       "                .leaflet-container { font-size: 1rem; }\n",
       "            &lt;/style&gt;\n",
       "        \n",
       "    &lt;script src=&quot;https://cdn.jsdelivr.net/gh/python-visualization/folium@main/folium/templates/leaflet_heat.min.js&quot;&gt;&lt;/script&gt;\n",
       "&lt;/head&gt;\n",
       "&lt;body&gt;\n",
       "    \n",
       "    \n",
       "            &lt;div class=&quot;folium-map&quot; id=&quot;map_40de07beaf66a3d9433d065acb6089bb&quot; &gt;&lt;/div&gt;\n",
       "        \n",
       "&lt;/body&gt;\n",
       "&lt;script&gt;\n",
       "    \n",
       "    \n",
       "            var map_40de07beaf66a3d9433d065acb6089bb = L.map(\n",
       "                &quot;map_40de07beaf66a3d9433d065acb6089bb&quot;,\n",
       "                {\n",
       "                    center: [0, 0],\n",
       "                    crs: L.CRS.EPSG3857,\n",
       "                    zoom: 1,\n",
       "                    zoomControl: true,\n",
       "                    preferCanvas: false,\n",
       "                }\n",
       "            );\n",
       "\n",
       "            \n",
       "\n",
       "        \n",
       "    \n",
       "            var tile_layer_883b8e947cd4fd547b2f7282330772f1 = L.tileLayer(\n",
       "                &quot;https://{s}.tile.openstreetmap.org/{z}/{x}/{y}.png&quot;,\n",
       "                {&quot;attribution&quot;: &quot;Data by \\u0026copy; \\u003ca target=\\&quot;_blank\\&quot; href=\\&quot;http://openstreetmap.org\\&quot;\\u003eOpenStreetMap\\u003c/a\\u003e, under \\u003ca target=\\&quot;_blank\\&quot; href=\\&quot;http://www.openstreetmap.org/copyright\\&quot;\\u003eODbL\\u003c/a\\u003e.&quot;, &quot;detectRetina&quot;: false, &quot;maxNativeZoom&quot;: 18, &quot;maxZoom&quot;: 18, &quot;minZoom&quot;: 0, &quot;noWrap&quot;: false, &quot;opacity&quot;: 1, &quot;subdomains&quot;: &quot;abc&quot;, &quot;tms&quot;: false}\n",
       "            ).addTo(map_40de07beaf66a3d9433d065acb6089bb);\n",
       "        \n",
       "    \n",
       "            var heat_map_f60ebe8c0aa86e639cbbba9eba86d533 = L.heatLayer(\n",
       "                [[12.911275849999999, 77.60456543431182, 815.0], [12.9151486, 77.5857021, 437.0], [12.9116225, 77.6388622, 436.0], [12.9292731, 77.5824229, 416.0], [12.9696365, 77.7497448, 308.0], [12.848759900000001, 77.64825295827616, 308.0], [12.9088191, 77.6003196, 302.0], [12.9552572, 77.6984163, 293.0], [12.9152208, 77.573598, 242.0], [12.9732913, 77.6404672, 235.0], [12.9417261, 77.5755021, 218.0], [12.9882338, 77.554883, 217.0], [12.9736132, 77.6074716, 211.0], [12.9277245, 77.6327822, 187.0], [12.93103185, 77.6782471, 183.0], [12.9778793, 77.6246697, 182.0], [12.9237639, 77.6540735, 180.0], [12.9390255, 77.6238477, 164.0], [13.0027353, 77.5703253, 160.0], [12.986391, 77.6075416, 160.0], [12.9348429, 77.6189768, 155.0], [13.0141618, 77.6518539, 155.0], [12.9575547, 77.5979099, 153.0], [12.9700474, 77.6171042, 149.0], [12.9668213, 77.7168891, 133.0], [13.0093455, 77.6377094, 117.0], [12.9364846, 77.6134783, 102.0], [12.9327778, 77.6294052, 102.0], [12.987043, 77.5949244, 99.0], [13.0268145, 77.5717187, 92.0], [12.9986827, 77.615525, 92.0], [12.978129800000001, 77.57221040632318, 88.0], [13.0221416, 77.6403368, 85.0], [13.0530002, 77.6204833, 85.0], [12.9755264, 77.6067902, 82.0], [12.9606699, 77.6422283, 69.0], [12.9624669, 77.6381958, 65.0], [12.9408685, 77.617338, 62.0], [12.988721250000001, 77.58516877601824, 59.0], [12.965717999999999, 77.5762705372058, 56.0], [12.983903, 77.5782508, 51.0], [12.9089453, 77.6239038, 48.0], [12.9742939, 77.6525189, 46.0], [12.9678074, 77.6568367, 46.0], [12.9489339, 77.5968273, 44.0], [12.9822323, 77.6082954, 44.0], [12.9932236, 77.5391579, 41.0], [12.945245, 77.6269144, 40.0], [12.9081487, 77.5553179, 38.0], [12.973936, 77.6509982, 37.0], [12.9764122, 77.6017437, 37.0], [13.02383, 77.5529215, 35.0], [12.9658625, 77.6124731531352, 35.0], [12.9829856, 77.5964564, 33.0], [12.9291385, 77.61531, 32.0], [13.0431413, 77.6209093, 31.0], [13.0358698, 77.6323597, 29.0], [12.9413238, 77.7471103, 26.0], [13.0258087, 77.6305067, 25.0], [12.9846713, 77.6790908, 22.0], [12.9931876, 77.5753419, 22.0], [12.9243692, 77.6242433, 18.0], [13.0227204, 77.595715, 18.0], [12.975608, 77.5553564, 17.0], [12.9467026, 77.5300705, 17.0], [12.9282918, 77.6254034, 16.0], [12.9749487, 77.5997248, 16.0], [12.9856596, 77.6638971, 14.0], [13.0464531, 77.5483803, 13.0], [13.0621474, 77.58006135480495, 13.0], [12.8683735, 77.5360576, 12.0], [12.9578658, 77.6958748, 10.0], [12.9862452, 77.731685, 10.0], [13.0068, 77.5813, 9.0], [12.9841958, 77.51919296908994, 8.0], [13.0163, 77.6785, 7.0], [13.007516, 77.695935, 6.0], [12.99359355, 77.58509974889078, 5.0], [13.1006982, 77.5963454, 4.0], [12.9055682, 77.5455438, 4.0], [13.0784743, 77.6068938, 3.0], [12.9892546, 77.76812559925318, 3.0], [12.9835954, 77.6394805, 2.0], [13.022234699999998, 77.56718324768107, 1.0], [12.9287596, 77.6287122, 1.0], [13.0382184, 77.5919, 1.0]],\n",
       "                {&quot;blur&quot;: 15, &quot;maxZoom&quot;: 18, &quot;minOpacity&quot;: 0.5, &quot;radius&quot;: 25}\n",
       "            ).addTo(map_40de07beaf66a3d9433d065acb6089bb);\n",
       "        \n",
       "&lt;/script&gt;\n",
       "&lt;/html&gt;\" style=\"position:absolute;width:100%;height:100%;left:0;top:0;border:none !important;\" allowfullscreen webkitallowfullscreen mozallowfullscreen></iframe></div></div>"
      ],
      "text/plain": [
       "<folium.folium.Map at 0x17100f6eb90>"
      ]
     },
     "execution_count": 140,
     "metadata": {},
     "output_type": "execute_result"
    }
   ],
   "source": [
    "getHeatmap('South Indian')"
   ]
  }
 ],
 "metadata": {
  "kernelspec": {
   "display_name": "Python 3",
   "language": "python",
   "name": "python3"
  },
  "language_info": {
   "codemirror_mode": {
    "name": "ipython",
    "version": 3
   },
   "file_extension": ".py",
   "mimetype": "text/x-python",
   "name": "python",
   "nbconvert_exporter": "python",
   "pygments_lexer": "ipython3",
   "version": "3.11.4"
  },
  "orig_nbformat": 4
 },
 "nbformat": 4,
 "nbformat_minor": 2
}
